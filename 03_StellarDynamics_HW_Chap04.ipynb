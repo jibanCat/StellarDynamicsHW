{
 "cells": [
  {
   "cell_type": "code",
   "execution_count": 5,
   "metadata": {
    "collapsed": true
   },
   "outputs": [],
   "source": [
    "import sympy as sp\n",
    "\n",
    "sp.init_printing()"
   ]
  },
  {
   "cell_type": "markdown",
   "metadata": {},
   "source": [
    "# 03_StellarDynamics_HW_Chap04\n",
    "\n",
    "In class, we discussed the formation of a protostar, Hayashi track.\n",
    "There are three different state of Hayashi track.Your mission is\n",
    "- A)The relationship among surface temperature, stellar mass and stellar radius in different state of Hayashi track. (45%)\n",
    "- B)A)The relationship among luminosity, stellar mass and stellar radius in different state of Hayashi track. (45%)\n",
    "- C)Explain the mechanism of Hayashi track, why we can roughly disassemble the Hayashi track and what is the difference among the three states?(10%)\n",
    "\n",
    "Hint: The answers of A and B are polynomials. What you have to do is to find out the power of mass and radius.  "
   ]
  },
  {
   "cell_type": "code",
   "execution_count": 128,
   "metadata": {},
   "outputs": [
    {
     "data": {
      "image/png": "[encoded data removed]",
      "text/latex": [
       "$$L = 4 \\pi R^{2} T^{4} c$$"
      ],
      "text/plain": [
       "         2  4  \n",
       "L = 4⋅π⋅R ⋅T ⋅c"
      ]
     },
     "execution_count": 128,
     "metadata": {},
     "output_type": "execute_result"
    }
   ],
   "source": [
    "L, T, M, P, kappa = sp.symbols('L T M P kappa')\n",
    "\n",
    "# expression of luminosity\n",
    "exprL = sp.Eq(L, sp.simplify('4 * pi * R^2 * T^4 * c'))\n",
    "exprL"
   ]
  },
  {
   "cell_type": "code",
   "execution_count": 98,
   "metadata": {},
   "outputs": [
    {
     "data": {
      "image/png": "[encoded data removed]",
      "text/latex": [
       "$$P \\kappa = \\frac{d}{d r} P$$"
      ],
      "text/plain": [
       "      d    \n",
       "P⋅κ = ──(P)\n",
       "      dr   "
      ]
     },
     "execution_count": 98,
     "metadata": {},
     "output_type": "execute_result"
    }
   ],
   "source": [
    "exprDp = sp.Derivative(P, sp.simplify('r'))\n",
    "exprDp = sp.Eq(kappa * P, exprDp)\n",
    "exprDp"
   ]
  },
  {
   "cell_type": "code",
   "execution_count": 99,
   "metadata": {},
   "outputs": [
    {
     "data": {
      "image/png": "[encoded data removed]",
      "text/latex": [
       "$$\\frac{d}{d r} P = - \\frac{G m}{R^{2}} \\rho$$"
      ],
      "text/plain": [
       "d       -G⋅m⋅ρ \n",
       "──(P) = ───────\n",
       "dr          2  \n",
       "           R   "
      ]
     },
     "execution_count": 99,
     "metadata": {},
     "output_type": "execute_result"
    }
   ],
   "source": [
    "# gavitation \n",
    "exprGrav = sp.simplify('- G * m * rho / R^2')\n",
    "exprGrav = sp.Eq(exprDp.rhs, exprGrav)\n",
    "exprGrav"
   ]
  },
  {
   "cell_type": "code",
   "execution_count": 100,
   "metadata": {},
   "outputs": [
    {
     "data": {
      "image/png": "[encoded data removed]",
      "text/latex": [
       "$$P \\kappa = - \\frac{G m}{R^{2}} \\rho$$"
      ],
      "text/plain": [
       "      -G⋅m⋅ρ \n",
       "P⋅κ = ───────\n",
       "          2  \n",
       "         R   "
      ]
     },
     "execution_count": 100,
     "metadata": {},
     "output_type": "execute_result"
    }
   ],
   "source": [
    "# substitute dP / dr\n",
    "exprDp = exprDp.subs({exprDp.rhs: exprGrav.rhs})\n",
    "exprDp"
   ]
  },
  {
   "cell_type": "code",
   "execution_count": 101,
   "metadata": {},
   "outputs": [
    {
     "data": {
      "image/png": "[encoded data removed]",
      "text/latex": [
       "$$P P^{a} T^{b} \\kappa_{0} = - \\frac{G P m}{R^{2} T}$$"
      ],
      "text/plain": [
       "   a  b      -G⋅P⋅m \n",
       "P⋅P ⋅T ⋅κ₀ = ───────\n",
       "                2   \n",
       "               R ⋅T "
      ]
     },
     "execution_count": 101,
     "metadata": {},
     "output_type": "execute_result"
    }
   ],
   "source": [
    "# substitute kappa and rho\n",
    "exprDp = exprDp.subs({kappa : sp.simplify('kappa_0 * P^a * T^b'), \n",
    "                      sp.simplify('rho') : P / T})\n",
    "exprDp"
   ]
  },
  {
   "cell_type": "code",
   "execution_count": 102,
   "metadata": {},
   "outputs": [
    {
     "data": {
      "image/png": "[encoded data removed]",
      "text/latex": [
       "$$P^{a + 1} T^{b} \\kappa_{0} = - \\frac{G P m}{R^{2} T}$$"
      ],
      "text/plain": [
       " a + 1  b      -G⋅P⋅m \n",
       "P     ⋅T ⋅κ₀ = ───────\n",
       "                  2   \n",
       "                 R ⋅T "
      ]
     },
     "execution_count": 102,
     "metadata": {},
     "output_type": "execute_result"
    }
   ],
   "source": [
    "# simplify the expression\n",
    "exprDp = sp.simplify(exprDp)\n",
    "exprDp"
   ]
  },
  {
   "cell_type": "code",
   "execution_count": 103,
   "metadata": {},
   "outputs": [
    {
     "data": {
      "image/png": "[encoded data removed]",
      "text/latex": [
       "$$P = \\left(T^{- \\gamma}\\right)^{\\frac{1}{- \\gamma + 1}}$$"
      ],
      "text/plain": [
       "           1   \n",
       "         ──────\n",
       "         -γ + 1\n",
       "    ⎛ -γ⎞      \n",
       "P = ⎝T  ⎠      "
      ]
     },
     "execution_count": 103,
     "metadata": {},
     "output_type": "execute_result"
    }
   ],
   "source": [
    "# Adiabatic process\n",
    "gamma = sp.Symbol('gamma')\n",
    "exprP = (T**(-gamma))**(1 / (1 - gamma))\n",
    "sp.Eq(P, exprP)"
   ]
  },
  {
   "cell_type": "code",
   "execution_count": 104,
   "metadata": {},
   "outputs": [
    {
     "data": {
      "image/png": "[encoded data removed]",
      "text/latex": [
       "$$P = T^{2.5}$$"
      ],
      "text/plain": [
       "     2.5\n",
       "P = T   "
      ]
     },
     "execution_count": 104,
     "metadata": {},
     "output_type": "execute_result"
    }
   ],
   "source": [
    "# for gamma = 5/3\n",
    "exprP = sp.powdenest(exprP.subs(gamma, 5 / 3), force=1)\n",
    "sp.Eq(P, exprP)"
   ]
  },
  {
   "cell_type": "code",
   "execution_count": 105,
   "metadata": {},
   "outputs": [
    {
     "data": {
      "image/png": "[encoded data removed]",
      "text/latex": [
       "$$T^{b} \\kappa_{0} \\left(T^{2.5}\\right)^{a + 1} = - \\frac{G m}{R^{2}} T^{1.5}$$"
      ],
      "text/plain": [
       "            a + 1       1.5   \n",
       " b    ⎛ 2.5⎞        -G⋅T   ⋅m \n",
       "T ⋅κ₀⋅⎝T   ⎠      = ──────────\n",
       "                         2    \n",
       "                        R     "
      ]
     },
     "execution_count": 105,
     "metadata": {},
     "output_type": "execute_result"
    }
   ],
   "source": [
    "# substitute back into the exprDp\n",
    "exprDp = exprDp.subs(P, exprP)\n",
    "exprDp"
   ]
  },
  {
   "cell_type": "code",
   "execution_count": 107,
   "metadata": {},
   "outputs": [
    {
     "data": {
      "image/png": "[encoded data removed]",
      "text/latex": [
       "$$\\left [ 0, \\quad \\left(\\frac{G m}{R^{2} \\kappa_{0}}\\right)^{\\frac{2}{5 a + 2 b + 2}}\\right ]$$"
      ],
      "text/plain": [
       "⎡                2      ⎤\n",
       "⎢          ─────────────⎥\n",
       "⎢          5⋅a + 2⋅b + 2⎥\n",
       "⎢   ⎛ G⋅m ⎞             ⎥\n",
       "⎢0, ⎜─────⎟             ⎥\n",
       "⎢   ⎜ 2   ⎟             ⎥\n",
       "⎣   ⎝R ⋅κ₀⎠             ⎦"
      ]
     },
     "execution_count": 107,
     "metadata": {},
     "output_type": "execute_result"
    }
   ],
   "source": [
    "# solve for T\n",
    "exprSolveT = sp.solve(exprDp, T, rational=0)\n",
    "exprSolveT"
   ]
  },
  {
   "cell_type": "code",
   "execution_count": 108,
   "metadata": {},
   "outputs": [
    {
     "data": {
      "image/png": "[encoded data removed]",
      "text/latex": [
       "$$\\left(\\frac{G m}{R^{2} \\kappa_{0}}\\right)^{\\frac{2}{5 a + 2 b + 2}}$$"
      ],
      "text/plain": [
       "             2      \n",
       "       ─────────────\n",
       "       5⋅a + 2⋅b + 2\n",
       "⎛ G⋅m ⎞             \n",
       "⎜─────⎟             \n",
       "⎜ 2   ⎟             \n",
       "⎝R ⋅κ₀⎠             "
      ]
     },
     "execution_count": 108,
     "metadata": {},
     "output_type": "execute_result"
    }
   ],
   "source": [
    "# it seems we only need second solution\n",
    "exprSolveT = exprSolveT[1]\n",
    "exprSolveT"
   ]
  },
  {
   "cell_type": "code",
   "execution_count": 109,
   "metadata": {},
   "outputs": [
    {
     "data": {
      "image/png": "[encoded data removed]",
      "text/latex": [
       "$$T = G^{\\frac{2}{5 a + 2 b + 2}} m^{\\frac{2}{5 a + 2 b + 2}} \\left(\\frac{1}{R^{2}}\\right)^{\\frac{2}{5 a + 2 b + 2}} \\left(\\frac{1}{\\kappa_{0}}\\right)^{\\frac{2}{5 a + 2 b + 2}}$$"
      ],
      "text/plain": [
       "                                            2                 2      \n",
       "           2              2           ─────────────     ─────────────\n",
       "     ─────────────  ─────────────     5⋅a + 2⋅b + 2     5⋅a + 2⋅b + 2\n",
       "     5⋅a + 2⋅b + 2  5⋅a + 2⋅b + 2 ⎛1 ⎞              ⎛1 ⎞             \n",
       "T = G             ⋅m             ⋅⎜──⎟             ⋅⎜──⎟             \n",
       "                                  ⎜ 2⎟              ⎝κ₀⎠             \n",
       "                                  ⎝R ⎠                               "
      ]
     },
     "execution_count": 109,
     "metadata": {},
     "output_type": "execute_result"
    }
   ],
   "source": [
    "# expand powers based on bases\n",
    "exprSolveT = sp.expand_power_base(exprSolveT, force=1)\n",
    "sp.Eq(T, exprSolveT)"
   ]
  },
  {
   "cell_type": "markdown",
   "metadata": {},
   "source": [
    "The above equation stands for the relation between $T$ and $R, m$ based on power law."
   ]
  },
  {
   "cell_type": "code",
   "execution_count": 129,
   "metadata": {},
   "outputs": [
    {
     "data": {
      "image/png": "[encoded data removed]",
      "text/latex": [
       "$$L = 4 \\pi R^{2} T^{4} c$$"
      ],
      "text/plain": [
       "         2  4  \n",
       "L = 4⋅π⋅R ⋅T ⋅c"
      ]
     },
     "execution_count": 129,
     "metadata": {},
     "output_type": "execute_result"
    }
   ],
   "source": [
    "# recall this equation\n",
    "exprL"
   ]
  },
  {
   "cell_type": "code",
   "execution_count": 130,
   "metadata": {
    "scrolled": true
   },
   "outputs": [
    {
     "data": {
      "image/png": "[encoded data removed]",
      "text/latex": [
       "$$L = 4 \\pi G^{\\frac{8}{5 a + 2 b + 2}} R^{2} c m^{\\frac{8}{5 a + 2 b + 2}} \\left(\\frac{1}{R^{2}}\\right)^{\\frac{8}{5 a + 2 b + 2}} \\left(\\frac{1}{\\kappa_{0}}\\right)^{\\frac{8}{5 a + 2 b + 2}}$$"
      ],
      "text/plain": [
       "                                                     8                 8      \n",
       "               8                   8           ─────────────     ─────────────\n",
       "         ─────────────       ─────────────     5⋅a + 2⋅b + 2     5⋅a + 2⋅b + 2\n",
       "         5⋅a + 2⋅b + 2  2    5⋅a + 2⋅b + 2 ⎛1 ⎞              ⎛1 ⎞             \n",
       "L = 4⋅π⋅G             ⋅R ⋅c⋅m             ⋅⎜──⎟             ⋅⎜──⎟             \n",
       "                                           ⎜ 2⎟              ⎝κ₀⎠             \n",
       "                                           ⎝R ⎠                               "
      ]
     },
     "execution_count": 130,
     "metadata": {},
     "output_type": "execute_result"
    }
   ],
   "source": [
    "# substitute T with exprSolveT, the T relation based on R and m\n",
    "exprSolveL = exprL.subs(T, exprSolveT)\n",
    "exprSolveL"
   ]
  },
  {
   "cell_type": "markdown",
   "metadata": {},
   "source": [
    "Let's simplify both L and T expressions for taking all constants to be 1."
   ]
  },
  {
   "cell_type": "code",
   "execution_count": 133,
   "metadata": {},
   "outputs": [
    {
     "data": {
      "image/png": "[encoded data removed]",
      "text/latex": [
       "$$L = R^{2} \\left(\\frac{m^{8}}{R^{16}}\\right)^{\\frac{1}{5 a + 2 b + 2}}$$"
      ],
      "text/plain": [
       "                  1      \n",
       "            ─────────────\n",
       "            5⋅a + 2⋅b + 2\n",
       "       ⎛  8⎞             \n",
       "     2 ⎜ m ⎟             \n",
       "L = R ⋅⎜───⎟             \n",
       "       ⎜ 16⎟             \n",
       "       ⎝R  ⎠             "
      ]
     },
     "execution_count": 133,
     "metadata": {},
     "output_type": "execute_result"
    }
   ],
   "source": [
    "# simplify L\n",
    "exprSolveL = exprSolveL.subs({'4 * pi' : 1, 'G' : 1, 'c' : 1, \n",
    "                 'kappa_0' : 1})\n",
    "sp.powsimp(exprSolveL, deep=1, force=1)"
   ]
  },
  {
   "cell_type": "markdown",
   "metadata": {},
   "source": [
    "Oh... this is the expression the program thinks is the most simplistic..."
   ]
  },
  {
   "cell_type": "code",
   "execution_count": 135,
   "metadata": {},
   "outputs": [
    {
     "data": {
      "image/png": "[encoded data removed]",
      "text/latex": [
       "$$T = \\left(\\frac{m^{2}}{R^{4}}\\right)^{\\frac{1}{5 a + 2 b + 2}}$$"
      ],
      "text/plain": [
       "              1      \n",
       "        ─────────────\n",
       "        5⋅a + 2⋅b + 2\n",
       "    ⎛ 2⎞             \n",
       "    ⎜m ⎟             \n",
       "T = ⎜──⎟             \n",
       "    ⎜ 4⎟             \n",
       "    ⎝R ⎠             "
      ]
     },
     "execution_count": 135,
     "metadata": {},
     "output_type": "execute_result"
    }
   ],
   "source": [
    "# simplify T\n",
    "exprSolveT = exprSolveT.subs({'G' : 1, 'kappa_0' : 1})\n",
    "exprSolveT = sp.powsimp(exprSolveT, deep=1, force=1)\n",
    "exprSolveT = sp.Eq(T, exprSolveT)\n",
    "exprSolveT"
   ]
  },
  {
   "cell_type": "markdown",
   "metadata": {},
   "source": [
    "# Question 1\n",
    "Use expression of $T$ with $a, b$ in different stages:\n",
    "\n",
    "|stages| `a` | `b` |\n",
    "| ---- | --- | --- |\n",
    "| (1)  | 0.7 | 0.6 | \n",
    "| (2)  | 5.3 | 9.4 |\n",
    "\n",
    "(BYW, did 老闕 provided `a` `b` for stage (3)?)"
   ]
  },
  {
   "cell_type": "code",
   "execution_count": null,
   "metadata": {
    "collapsed": true
   },
   "outputs": [],
   "source": [
    "# 1) low-density stage \n"
   ]
  }
 ],
 "metadata": {
  "hide_input": false,
  "kernelspec": {
   "display_name": "Python 3",
   "language": "python",
   "name": "python3"
  },
  "language_info": {
   "codemirror_mode": {
    "name": "ipython",
    "version": 3
   },
   "file_extension": ".py",
   "mimetype": "text/x-python",
   "name": "python",
   "nbconvert_exporter": "python",
   "pygments_lexer": "ipython3",
   "version": "3.6.1"
  }
 },
 "nbformat": 4,
 "nbformat_minor": 2
}
