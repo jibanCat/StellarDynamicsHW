{
 "cells": [
  {
   "cell_type": "markdown",
   "metadata": {},
   "source": [
    "# StellarDynamics_HW_Chap03\n",
    "\n",
    "Sorry, I failed to write a reproducible homework based on programming. QAQ."
   ]
  },
  {
   "cell_type": "markdown",
   "metadata": {},
   "source": [
    "3.1\n",
    "\n",
    "a.  \n",
    "modified from (3.23b), the rariated power is  \n",
    "\n",
    "$$\n",
    "P = \\frac{{2{{\\left| {{\\mathbf{\\ddot m}}} \\right|}^2}}}{{3{c^3}}}\n",
    "$$"
   ]
  },
  {
   "cell_type": "markdown",
   "metadata": {},
   "source": [
    "Only the component that perpendicular to the rotation axis contributes to the radiation, and the variation of dipole is contributed only by the component perpendicular to the rotation axis,  \n",
    "\n",
    "$$\n",
    "{\\mathbf{m}} \\propto {e^{i\\omega t}},  \n",
    "$$\n",
    "so that  \n",
    "$$ \\left| {{\\mathbf{\\ddot m}}} \\right| = {\\omega ^2}\\left| {\\mathbf{m}} \\right|\\sin \\alpha $$"
   ]
  },
  {
   "cell_type": "markdown",
   "metadata": {},
   "source": [
    "Comparing to electric field, we can get a similiar form of relation between field and dipole,  \n",
    "\n",
    "Electric potential:  \n",
    "$$\n",
    "\\phi  = \\frac{e}{{\\left| {\\mathbf{r}} \\right|}} - \\frac{e}{{\\left| {{\\mathbf{r}} - {\\mathbf{d}}} \\right|}} = \\frac{{e\\left| {{\\mathbf{r}} - {\\mathbf{d}}} \\right| - e\\left| {\\mathbf{r}} \\right|}}{{\\left| {\\mathbf{r}} \\right|\\left| {{\\mathbf{r}} - {\\mathbf{d}}} \\right|}} \\approx \\frac{{ed\\cos \\theta }}{{{r^2}}}\n",
    "$$"
   ]
  },
  {
   "cell_type": "markdown",
   "metadata": {},
   "source": [
    "Note $ed$ is the electric dipole."
   ]
  },
  {
   "cell_type": "markdown",
   "metadata": {},
   "source": [
    "$$\n",
    "{\\mathbf{E}} = \\nabla \\phi  = (\\frac{\\partial }{{\\partial r}}\\hat r + \\frac{1}{r}\\frac{\\partial }{{\\partial \\theta }}\\hat \\theta  + \\frac{1}{{r\\sin \\theta }}\\frac{\\partial }{{\\partial \\phi }}\\hat \\phi )\\frac{{ed\\cos \\theta }}{{{r^2}}} \\\\\n",
    " =  - 2\\frac{{ed\\cos \\theta }}{{{r^3}}}\\hat r - \\frac{{ed\\sin \\theta }}{{{r^3}}}\\hat \\theta \n",
    "$$"
   ]
  },
  {
   "cell_type": "markdown",
   "metadata": {},
   "source": [
    "So that,  \n",
    "\n",
    "$$\n",
    "{{\\mathbf{B}}_{\\mathbf{0}}} =  - 2\\frac{m}{{{r^3}}}\\hat r  \n",
    "$$\n",
    "and  \n",
    "$$\n",
    "\\left| {\\mathbf{m}} \\right| = \\frac{{{B_0}R_0^3}}{2}\n",
    "$$"
   ]
  },
  {
   "cell_type": "markdown",
   "metadata": {},
   "source": [
    "So the answer is  \n",
    "$$\n",
    "P = \\frac{{2{\\omega ^4}{{\\left( {\\frac{{{B_0}R_0^3}}{2}} \\right)}^2}{{\\sin }^2}\\alpha }}{{3{c^3}}} = \\frac{{{\\omega ^4}B_0^2R_0^6{{\\sin }^2}\\alpha }}{{6{c^3}}}.\n",
    "$$"
   ]
  },
  {
   "cell_type": "markdown",
   "metadata": {},
   "source": [
    "b.  \n",
    "\n",
    "So we can build the connection between rotation energy and radiation power. \n",
    "\n",
    "$$\n",
    "P =  - {{\\dot E}_{rot}},  \n",
    "$$\n",
    "with  \n",
    "$$\n",
    "{E_{rot}} = \\frac{1}{5}M{R^2}{\\omega ^2}\n",
    "$$"
   ]
  },
  {
   "cell_type": "markdown",
   "metadata": {},
   "source": [
    "So that  \n",
    "$$\n",
    "P = \\frac{{{\\omega ^4}B_0^2R_0^6{{\\sin }^2}\\alpha }}{{6{c^3}}} =  - \\frac{2}{5}M{R_0}^2\\omega \\dot \\omega  =  - {{\\dot E}_{rot}}.\n",
    "$$"
   ]
  },
  {
   "cell_type": "markdown",
   "metadata": {},
   "source": [
    "He have  \n",
    "$$\n",
    "\\tau  \\equiv \\frac{{ - \\omega }}{{\\dot \\omega }} = \\frac{{12M{c^3}}}{{5{\\omega ^2}B_0^2R_0^4{{\\sin }^2}\\alpha }}\n",
    "$$"
   ]
  },
  {
   "cell_type": "markdown",
   "metadata": {},
   "source": [
    "c. "
   ]
  },
  {
   "cell_type": "code",
   "execution_count": 7,
   "metadata": {
    "collapsed": true
   },
   "outputs": [],
   "source": [
    "from scipy import constants as c\n",
    "import numpy as np"
   ]
  },
  {
   "cell_type": "code",
   "execution_count": 95,
   "metadata": {},
   "outputs": [
    {
     "name": "stdout",
     "output_type": "stream",
     "text": [
      "w = 1e+04; P = 6.2e+43\n",
      "w = 1e+03; P = 6.2e+39\n",
      "w = 1e+02; P = 6.2e+35\n"
     ]
    }
   ],
   "source": [
    "def radiation_power(**kwargs):\n",
    "    '''cgs unit radiation power'''\n",
    "    return kwargs['w']**4 * kwargs['B']**2 * \\\n",
    "        kwargs['R']**6 * \\\n",
    "        np.sin(kwargs['a'] * np.pi / 180)**2 / \\\n",
    "        (6 * (c.speed_of_light * 100)**3)\n",
    "\n",
    "values = {'M': 2*10**33., \n",
    "          'R': 10**6., \n",
    "          'B': 10**12., \n",
    "          'a': 90.}        \n",
    "ws = [10**4., 10**3., 10**2.]        \n",
    "Ps = map(lambda w:radiation_power(w=w, \n",
    "    B=values['B'], R=values['R'], a=values['a']), \n",
    "    ws)\n",
    "for p,w in zip(Ps, ws):\n",
    "    print('w = {:.2g}; P = {:.2g}'.format(w, p))"
   ]
  },
  {
   "cell_type": "code",
   "execution_count": 93,
   "metadata": {},
   "outputs": [
    {
     "name": "stdout",
     "output_type": "stream",
     "text": [
      "w = 1e+04; 41 yr\n",
      "w = 1e+03; 4.1e+03 yr\n",
      "w = 1e+02; 4.1e+05 yr\n"
     ]
    }
   ],
   "source": [
    "def time_scale(**kwargs):\n",
    "    '''cgs unit time-scale'''\n",
    "    return 12 * kwargs['M'] * (c.speed_of_light * 100)**3 /\\\n",
    "    (5 * kwargs['R']**4 * kwargs['w']**2 * \\\n",
    "     kwargs['B']**2 *\\\n",
    "     np.sin(kwargs['a'] * np.pi / 180)**2)\n",
    "    \n",
    "taus = list(map(lambda w:time_scale(w=w, \n",
    "    M=values['M'], R=values['R'], a=values['a'], B=values['B']), \n",
    "    ws))\n",
    "for yr,w in zip((tau / 60 / 60 / 24 / 365 for tau in taus),\n",
    "               ws):\n",
    "    print('w = {:.2g}; {:.2g} yr'.format(w, yr))"
   ]
  },
  {
   "cell_type": "markdown",
   "metadata": {},
   "source": [
    "3.3  \n",
    "a.  \n",
    "Larmor Eq:  \n",
    "$$\n",
    "{{\\mathbf{E}}_{{\\mathbf{rad}}}} = \\left[ {(q/R{c^2}){\\mathbf{n}} \\times ({\\mathbf{n}} \\times {\\mathbf{\\dot n}})} \\right]\n",
    "$$"
   ]
  },
  {
   "cell_type": "markdown",
   "metadata": {},
   "source": [
    "With: \n",
    "\n",
    "$$\n",
    "u = r\\omega \\cos \\omega t\n",
    "$$\n",
    "\n",
    "$$\n",
    "\\dot u =  - r{\\omega ^2}\\cos \\omega t\\\\\n",
    "q\\dot u =  - d{\\omega ^2}\\cos \\omega t\n",
    "$$"
   ]
  },
  {
   "cell_type": "markdown",
   "metadata": {},
   "source": [
    "Larmor Eq becomes:  \n",
    "$$\n",
    "\\left| {{{\\mathbf{E}}_{{\\mathbf{rad}}}}} \\right| =  - \\frac{{{\\omega ^2}}}{{R{c^2}}}\\left[ {{d_1}\\cos \\omega t + {d_2}\\cos (\\omega (t - \\Delta t))} \\right]\\sin \\theta,\n",
    "$$\n",
    "\n",
    "where\n",
    "$$\n",
    "\\Delta t = (L/c)\\sin \\theta.\n",
    "$$"
   ]
  },
  {
   "cell_type": "markdown",
   "metadata": {},
   "source": [
    "Use the triangular blabla eqaution:  \n",
    "$$\n",
    "\\cos (\\omega (t - \\Delta t)) = \\cos \\omega t\\cos \\delta  + \\sin \\omega t\\sin \\delta.\n",
    "$$"
   ]
  },
  {
   "cell_type": "markdown",
   "metadata": {},
   "source": [
    "So that:  \n",
    "$$\n",
    "\\left| {{{\\mathbf{E}}_{{\\mathbf{rad}}}}} \\right| =  - \\frac{{{\\omega ^2}}}{{R{c^2}}}\\left[ {{d_1}\\cos \\omega t + {d_2}\\cos \\omega t\\cos \\delta  + {d_2}\\sin \\omega t\\sin \\delta } \\right]\\sin \\theta.\n",
    "$$"
   ]
  },
  {
   "cell_type": "markdown",
   "metadata": {},
   "source": [
    "The average radiation over time is:  \n",
    "$$\n",
    "\\left\\langle {{{\\left| {{{\\mathbf{E}}_{{\\mathbf{rad}}}}} \\right|}^2}} \\right\\rangle  = \\frac{{{\\omega ^4}{{\\sin }^2}\\theta }}{{2{R^2}{c^4}}}\\left[ {{d_1}^2 + {d_1}{d_2}{{\\cos }^2}\\delta  + {d_2}^2} \\right]\n",
    "$$\n",
    "\n",
    "Note that cross terms of $\\cos\\omega t$ and $\\sin\\omega t$ are eliminated from the averaged."
   ]
  },
  {
   "cell_type": "markdown",
   "metadata": {},
   "source": [
    "For Power per solid angle:  \n",
    "$$\n",
    "\\left\\langle {\\frac{{dP}}{{d\\Omega }}} \\right\\rangle  = \\frac{{c{R^2}}}{{4\\pi }}\\left\\langle {{{\\left| {{{\\mathbf{E}}_{{\\mathbf{rad}}}}} \\right|}^2}} \\right\\rangle  = \\frac{{{\\omega ^4}{{\\sin }^2}\\theta }}{{8\\pi {c^3}}}\\left[ {{d_1}^2 + {d_1}{d_2}{{\\cos }^2}\\delta  + {d_2}^2} \\right]\n",
    "$$"
   ]
  },
  {
   "cell_type": "markdown",
   "metadata": {},
   "source": [
    "b. \n",
    "\n",
    "$$\n",
    "L/\\lambda  = \\omega L 2\\pi \\ll 1\n",
    "$$\n",
    "\n",
    "So that, \n",
    "\n",
    "$$\n",
    "\\delta  = \\omega L\\sin \\theta /c \\ll 1.\n",
    "$$\n",
    "\n",
    "We got,  \n",
    "$$\n",
    "\\left\\langle {\\frac{{dP}}{{d\\Omega }}} \\right\\rangle  = \\frac{{{\\omega ^4}{{\\sin }^2}\\theta }}{{8\\pi {c^3}}}\\left[ {{d_1}^2 + {d_1}{d_2} + {d_2}^2} \\right] = \\frac{{{\\omega ^4}{{\\sin }^2}\\theta }}{{8\\pi {c^3}}}{\\left[ {{d_1} + {d_2}} \\right]^2}\n",
    "$$"
   ]
  },
  {
   "cell_type": "markdown",
   "metadata": {},
   "source": [
    "3.5\n",
    "\n",
    "This is dipole,  \n",
    "$$\n",
    "d = P \\times V = \\alpha E'\\frac{{3\\pi {a^3}}}{4} = \\alpha {E_0}\\cos \\omega t\\frac{{3\\pi {a^3}}}{4}{\\left( {1 + \\frac{{4\\pi \\alpha }}{3}} \\right)^{ - 1}}\n",
    "$$"
   ]
  },
  {
   "cell_type": "markdown",
   "metadata": {},
   "source": [
    "(p.91) cross section can be accessed by  \n",
    "$$\n",
    "\\sigma  = \\frac{{\\left\\langle P \\right\\rangle }}{{\\left\\langle S \\right\\rangle }}\n",
    "$$"
   ]
  },
  {
   "cell_type": "markdown",
   "metadata": {},
   "source": [
    "$$\n",
    "\\left\\langle P \\right\\rangle  = \\frac{{2{{{\\mathbf{\\ddot d}}}^2}}}{{3{c^3}}} = \\frac{1}{{3{c^3}}}{\\alpha ^2}{E_0}^2{\\omega ^4}{\\left( {\\frac{{3\\pi {a^3}}}{4}} \\right)^2}{\\left( {1 + \\frac{{4\\pi \\alpha }}{3}} \\right)^{ - 2}}\n",
    "$$\n"
   ]
  },
  {
   "cell_type": "markdown",
   "metadata": {},
   "source": [
    "$$\n",
    "\\left\\langle S \\right\\rangle  = \\frac{{cE_0^2}}{{8\\pi }}\n",
    "$$"
   ]
  },
  {
   "cell_type": "markdown",
   "metadata": {},
   "source": [
    "we got cross section,  \n",
    "$$\n",
    "\\sigma  = \\frac{{\\left\\langle P \\right\\rangle }}{{\\left\\langle S \\right\\rangle }} = \\frac{{\\frac{1}{{3{c^3}}}{\\alpha ^2}{E_0}^2{\\omega ^4}{{\\left( {\\frac{{4\\pi {a^3}}}{3}} \\right)}^2}{{\\left( {1 + \\frac{{4\\pi \\alpha }}{3}} \\right)}^{ - 2}}}}{{\\frac{{cE_0^2}}{{8\\pi }}}}\n",
    "$$"
   ]
  },
  {
   "cell_type": "markdown",
   "metadata": {},
   "source": [
    "Holy crap, I need to rewrite this thing?? maybe I should try Mathmatica kernel on notebook next time."
   ]
  },
  {
   "cell_type": "markdown",
   "metadata": {},
   "source": [
    "$$\\sigma  = \\frac{{\\left\\langle P \\right\\rangle }}{{\\left\\langle S \\right\\rangle }} = \\frac{{\\frac{1}{{3{c^3}}}{\\alpha ^2}{E_0}^2{\\omega ^4}{{\\left( {\\frac{{4\\pi {a^3}}}{3}} \\right)}^2}{{\\left( {1 + \\frac{{4\\pi \\alpha }}{3}} \\right)}^{ - 2}}}}{{\\frac{{cE_0^2}}{{8\\pi }}}} = \\frac{{8\\pi }}{3}{k^4}{a^6}{\\left( {1 + \\frac{3}{{4\\pi \\alpha }}} \\right)^{ - 2}} \\\\\n",
    "= \\pi {a^2}\\frac{8}{3}{(ka)^4}{\\left( {1 + \\frac{3}{{4\\pi \\alpha }}} \\right)^{ - 2}} = \\pi {a^2}{Q_{scatt}}\n",
    "$$"
   ]
  },
  {
   "cell_type": "markdown",
   "metadata": {},
   "source": [
    "The end....."
   ]
  },
  {
   "cell_type": "markdown",
   "metadata": {},
   "source": [
    "## Sympy Tutorial"
   ]
  },
  {
   "cell_type": "markdown",
   "metadata": {},
   "source": [
    "### Symbolic Variables"
   ]
  },
  {
   "cell_type": "code",
   "execution_count": 109,
   "metadata": {},
   "outputs": [
    {
     "data": {
      "image/png": "[encoded data removed]",
      "text/latex": [
       "$$x - 1$$"
      ],
      "text/plain": [
       "x - 1"
      ]
     },
     "execution_count": 109,
     "metadata": {},
     "output_type": "execute_result"
    }
   ],
   "source": [
    "import sympy as sp\n",
    "sp.init_printing()\n",
    "x,y,z,t = sp.symbols('x y z t')\n",
    "sp.simplify((x**3 + x**2 - x - 1)/(x**2 + 2*x + 1))"
   ]
  },
  {
   "cell_type": "code",
   "execution_count": 127,
   "metadata": {},
   "outputs": [
    {
     "data": {
      "text/plain": [
       "sympy.core.symbol.Symbol"
      ]
     },
     "execution_count": 127,
     "metadata": {},
     "output_type": "execute_result"
    }
   ],
   "source": [
    "type(x)"
   ]
  },
  {
   "cell_type": "code",
   "execution_count": 130,
   "metadata": {},
   "outputs": [
    {
     "data": {
      "text/plain": [
       "False"
      ]
     },
     "execution_count": 130,
     "metadata": {},
     "output_type": "execute_result"
    }
   ],
   "source": [
    "x = sp.Symbol('x', real=True)\n",
    "x.is_imaginary"
   ]
  },
  {
   "cell_type": "code",
   "execution_count": 131,
   "metadata": {},
   "outputs": [
    {
     "data": {
      "image/png": "[encoded data removed]",
      "text/latex": [
       "$$1 + i$$"
      ],
      "text/plain": [
       "1 + ⅈ"
      ]
     },
     "execution_count": 131,
     "metadata": {},
     "output_type": "execute_result"
    }
   ],
   "source": [
    "1+1*sp.I"
   ]
  },
  {
   "cell_type": "code",
   "execution_count": 132,
   "metadata": {},
   "outputs": [
    {
     "data": {
      "image/png": "[encoded data removed]",
      "text/latex": [
       "$$-1$$"
      ],
      "text/plain": [
       "-1"
      ]
     },
     "execution_count": 132,
     "metadata": {},
     "output_type": "execute_result"
    }
   ],
   "source": [
    "sp.I**2"
   ]
  },
  {
   "cell_type": "code",
   "execution_count": 133,
   "metadata": {},
   "outputs": [
    {
     "data": {
      "image/png": "[encoded data removed]",
      "text/latex": [
       "$$\\left(i x + 1\\right)^{2}$$"
      ],
      "text/plain": [
       "         2\n",
       "(ⅈ⋅x + 1) "
      ]
     },
     "execution_count": 133,
     "metadata": {},
     "output_type": "execute_result"
    }
   ],
   "source": [
    "(x * sp.I + 1)**2"
   ]
  },
  {
   "cell_type": "markdown",
   "metadata": {},
   "source": [
    "### Rational Numbers"
   ]
  },
  {
   "cell_type": "code",
   "execution_count": 136,
   "metadata": {
    "collapsed": true
   },
   "outputs": [],
   "source": [
    "r1 = sp.Rational(4,5)\n",
    "r2 = sp.Rational(5,4)"
   ]
  },
  {
   "cell_type": "code",
   "execution_count": 137,
   "metadata": {},
   "outputs": [
    {
     "data": {
      "image/png": "[encoded data removed]",
      "text/latex": [
       "$$\\frac{4}{5}$$"
      ],
      "text/plain": [
       "4/5"
      ]
     },
     "execution_count": 137,
     "metadata": {},
     "output_type": "execute_result"
    }
   ],
   "source": [
    "r1"
   ]
  },
  {
   "cell_type": "code",
   "execution_count": 138,
   "metadata": {
    "scrolled": true
   },
   "outputs": [
    {
     "data": {
      "image/png": "[encoded data removed]",
      "text/latex": [
       "$$\\frac{41}{20}$$"
      ],
      "text/plain": [
       "41\n",
       "──\n",
       "20"
      ]
     },
     "execution_count": 138,
     "metadata": {},
     "output_type": "execute_result"
    }
   ],
   "source": [
    "r1 + r2"
   ]
  },
  {
   "cell_type": "markdown",
   "metadata": {},
   "source": [
    "### Numerical "
   ]
  },
  {
   "cell_type": "code",
   "execution_count": 139,
   "metadata": {},
   "outputs": [
    {
     "data": {
      "image/png": "[encoded data removed]",
      "text/latex": [
       "$$3.1415926535897932384626433832795028841971693993751$$"
      ],
      "text/plain": [
       "3.1415926535897932384626433832795028841971693993751"
      ]
     },
     "execution_count": 139,
     "metadata": {},
     "output_type": "execute_result"
    }
   ],
   "source": [
    "sp.pi.evalf(n=50)"
   ]
  },
  {
   "cell_type": "code",
   "execution_count": 141,
   "metadata": {},
   "outputs": [
    {
     "data": {
      "image/png": "[encoded data removed]",
      "text/latex": [
       "$$\\left(x + 3.14159265358979\\right)^{2}$$"
      ],
      "text/plain": [
       "                      2\n",
       "(x + 3.14159265358979) "
      ]
     },
     "execution_count": 141,
     "metadata": {},
     "output_type": "execute_result"
    }
   ],
   "source": [
    "y = (x + sp.pi)**2\n",
    "sp.N(y)"
   ]
  },
  {
   "cell_type": "code",
   "execution_count": null,
   "metadata": {
    "collapsed": true
   },
   "outputs": [],
   "source": []
  },
  {
   "cell_type": "markdown",
   "metadata": {},
   "source": [
    "### Expand"
   ]
  },
  {
   "cell_type": "code",
   "execution_count": 111,
   "metadata": {},
   "outputs": [
    {
     "data": {
      "image/png": "[encoded data removed]",
      "text/latex": [
       "$$x^{2} + 2 x + 1$$"
      ],
      "text/plain": [
       " 2          \n",
       "x  + 2⋅x + 1"
      ]
     },
     "execution_count": 111,
     "metadata": {},
     "output_type": "execute_result"
    }
   ],
   "source": [
    "sp.expand((x + 1)**2)"
   ]
  },
  {
   "cell_type": "code",
   "execution_count": 112,
   "metadata": {},
   "outputs": [
    {
     "data": {
      "image/png": "[encoded data removed]",
      "text/latex": [
       "$$-2$$"
      ],
      "text/plain": [
       "-2"
      ]
     },
     "execution_count": 112,
     "metadata": {},
     "output_type": "execute_result"
    }
   ],
   "source": [
    "sp.expand((x + 1)*(x - 2) - (x - 1)*x)"
   ]
  },
  {
   "cell_type": "markdown",
   "metadata": {},
   "source": [
    "### Factor"
   ]
  },
  {
   "cell_type": "code",
   "execution_count": 113,
   "metadata": {},
   "outputs": [
    {
     "data": {
      "image/png": "[encoded data removed]",
      "text/latex": [
       "$$\\left(x - 1\\right) \\left(x^{2} + 1\\right)$$"
      ],
      "text/plain": [
       "        ⎛ 2    ⎞\n",
       "(x - 1)⋅⎝x  + 1⎠"
      ]
     },
     "execution_count": 113,
     "metadata": {},
     "output_type": "execute_result"
    }
   ],
   "source": [
    "sp.factor(x**3 - x**2 + x - 1)"
   ]
  },
  {
   "cell_type": "code",
   "execution_count": 117,
   "metadata": {},
   "outputs": [
    {
     "data": {
      "image/png": "[encoded data removed]",
      "text/latex": [
       "$$\\left(\\sin{\\left (x \\right )} + \\cos{\\left (x \\right )}\\right)^{2}$$"
      ],
      "text/plain": [
       "                 2\n",
       "(sin(x) + cos(x)) "
      ]
     },
     "execution_count": 117,
     "metadata": {},
     "output_type": "execute_result"
    }
   ],
   "source": [
    "sp.factor(sp.expand( (sp.cos(x) + sp.sin(x))**2 ))"
   ]
  },
  {
   "cell_type": "markdown",
   "metadata": {},
   "source": [
    "### Collect"
   ]
  },
  {
   "cell_type": "code",
   "execution_count": 121,
   "metadata": {},
   "outputs": [
    {
     "data": {
      "image/png": "[encoded data removed]",
      "text/latex": [
       "$$x^{3} - x^{2} z + 2 x^{2} + x y + x - 3$$"
      ],
      "text/plain": [
       " 3    2        2              \n",
       "x  - x ⋅z + 2⋅x  + x⋅y + x - 3"
      ]
     },
     "execution_count": 121,
     "metadata": {},
     "output_type": "execute_result"
    }
   ],
   "source": [
    "expr = x*y + x - 3 + 2*x**2 - z*x**2 + x**3\n",
    "expr"
   ]
  },
  {
   "cell_type": "code",
   "execution_count": 122,
   "metadata": {},
   "outputs": [
    {
     "data": {
      "image/png": "[encoded data removed]",
      "text/latex": [
       "$$x^{3} + x^{2} \\left(- z + 2\\right) + x \\left(y + 1\\right) - 3$$"
      ],
      "text/plain": [
       " 3    2                         \n",
       "x  + x ⋅(-z + 2) + x⋅(y + 1) - 3"
      ]
     },
     "execution_count": 122,
     "metadata": {},
     "output_type": "execute_result"
    }
   ],
   "source": [
    "sp.collect(expr, x)"
   ]
  },
  {
   "cell_type": "markdown",
   "metadata": {},
   "source": [
    "### Cancel"
   ]
  },
  {
   "cell_type": "code",
   "execution_count": 123,
   "metadata": {
    "scrolled": true
   },
   "outputs": [
    {
     "data": {
      "image/png": "[encoded data removed]",
      "text/latex": [
       "$$\\frac{x^{2} + 2 x + 1}{x^{2} + x}$$"
      ],
      "text/plain": [
       " 2          \n",
       "x  + 2⋅x + 1\n",
       "────────────\n",
       "    2       \n",
       "   x  + x   "
      ]
     },
     "execution_count": 123,
     "metadata": {},
     "output_type": "execute_result"
    }
   ],
   "source": [
    "expr = (x**2 + 2*x + 1) / (x**2 + x)\n",
    "expr"
   ]
  },
  {
   "cell_type": "code",
   "execution_count": 124,
   "metadata": {},
   "outputs": [
    {
     "data": {
      "image/png": "[encoded data removed]",
      "text/latex": [
       "$$\\frac{1}{x} \\left(x + 1\\right)$$"
      ],
      "text/plain": [
       "x + 1\n",
       "─────\n",
       "  x  "
      ]
     },
     "execution_count": 124,
     "metadata": {},
     "output_type": "execute_result"
    }
   ],
   "source": [
    "sp.cancel(expr)"
   ]
  },
  {
   "cell_type": "markdown",
   "metadata": {},
   "source": [
    "### Apart"
   ]
  },
  {
   "cell_type": "code",
   "execution_count": 125,
   "metadata": {},
   "outputs": [
    {
     "data": {
      "image/png": "[encoded data removed]",
      "text/latex": [
       "$$\\frac{4 x^{3} + 21 x^{2} + 10 x + 12}{x^{4} + 5 x^{3} + 5 x^{2} + 4 x}$$"
      ],
      "text/plain": [
       "   3       2            \n",
       "4⋅x  + 21⋅x  + 10⋅x + 12\n",
       "────────────────────────\n",
       "  4      3      2       \n",
       " x  + 5⋅x  + 5⋅x  + 4⋅x "
      ]
     },
     "execution_count": 125,
     "metadata": {},
     "output_type": "execute_result"
    }
   ],
   "source": [
    "expr = (4*x**3 + 21*x**2 + 10*x + 12)/(x**4 + 5*x**3 + 5*x**2 + 4*x)\n",
    "expr"
   ]
  },
  {
   "cell_type": "code",
   "execution_count": 126,
   "metadata": {},
   "outputs": [
    {
     "data": {
      "image/png": "[encoded data removed]",
      "text/latex": [
       "$$\\frac{2 x - 1}{x^{2} + x + 1} - \\frac{1}{x + 4} + \\frac{3}{x}$$"
      ],
      "text/plain": [
       " 2⋅x - 1       1     3\n",
       "────────── - ───── + ─\n",
       " 2           x + 4   x\n",
       "x  + x + 1            "
      ]
     },
     "execution_count": 126,
     "metadata": {},
     "output_type": "execute_result"
    }
   ],
   "source": [
    "sp.apart(expr)"
   ]
  },
  {
   "cell_type": "markdown",
   "metadata": {},
   "source": [
    "### Trigonnometric Simplification "
   ]
  },
  {
   "cell_type": "code",
   "execution_count": null,
   "metadata": {
    "collapsed": true
   },
   "outputs": [],
   "source": []
  }
 ],
 "metadata": {
  "hide_input": false,
  "kernelspec": {
   "display_name": "Python 3",
   "language": "python",
   "name": "python3"
  },
  "language_info": {
   "codemirror_mode": {
    "name": "ipython",
    "version": 3
   },
   "file_extension": ".py",
   "mimetype": "text/x-python",
   "name": "python",
   "nbconvert_exporter": "python",
   "pygments_lexer": "ipython3",
   "version": "3.6.1"
  }
 },
 "nbformat": 4,
 "nbformat_minor": 2
}
