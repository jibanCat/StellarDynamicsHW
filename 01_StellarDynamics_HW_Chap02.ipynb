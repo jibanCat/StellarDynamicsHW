{
 "cells": [
  {
   "cell_type": "markdown",
   "metadata": {},
   "source": [
    "# Stellar Dynamics HW 2\n",
    "\n",
    "Questions: 2.2, 2.3, Stokes Theorem."
   ]
  },
  {
   "cell_type": "markdown",
   "metadata": {},
   "source": [
    "## 2.2 \n",
    "\n",
    "from Maxwell eqs in eq 2.6\n",
    "\n",
    "$$\n",
    "\\nabla  \\cdot {\\mathbf{E}} = 4\\pi \\rho \n",
    "$$\n",
    "$$\n",
    "\\nabla  \\cdot {\\mathbf{B}} = 0\n",
    "$$\n",
    "$$\n",
    "\\nabla  \\times {\\mathbf{E}} =  - \\frac{1}{c}\\frac{{\\partial {\\mathbf{B}}}}{{\\partial t}}\n",
    "$$\n",
    "$$\n",
    "\\nabla  \\times {\\mathbf{B}} = \\frac{{4\\pi \\sigma \\mu }}{c}{\\mathbf{E}} + \\frac{\\mu \\epsilon}{c}\\frac{{\\partial {\\mathbf{E}}}}{{\\partial t}}\n",
    "$$\n",
    "\n",
    "With plane wave approximation: \n",
    "$$\n",
    "{\\mathbf{E}} = {{{\\mathbf{\\hat a}}}_{\\mathbf{1}}}{E_0}{{\\text{e}}^{i({\\mathbf{k}} \\cdot {\\mathbf{r}} - \\omega t)}}\n",
    "$$\n",
    "$$\n",
    "{\\mathbf{B}} = {{{\\mathbf{\\hat a}}}_2}{B_0}{{\\text{e}}^{i({\\mathbf{k}} \\cdot {\\mathbf{r}} - \\omega t)}}\n",
    "$$\n",
    "\n",
    "$$\n",
    "\\rho  = {\\rho _0}{{\\text{e}}^{i({\\mathbf{k}} \\cdot {\\mathbf{r}} - \\omega t)}}\n",
    "$$"
   ]
  },
  {
   "cell_type": "markdown",
   "metadata": {},
   "source": [
    "Which results in similar form of eq (2.19):  \n",
    "$$\n",
    "i{\\mathbf{k}} \\cdot {{{\\mathbf{\\hat a}}}_{\\mathbf{1}}}{E_0} = 4\\pi {\\rho _0}\\\\\n",
    "i{\\mathbf{k}} \\cdot {{{\\mathbf{\\hat a}}}_2}{B_0} = 0 \\\\\n",
    "i{\\mathbf{k}} \\times {{{\\mathbf{\\hat a}}}_{\\mathbf{1}}}{E_0} = i\\frac{1}{c}{{{\\mathbf{\\hat a}}}_2}\\omega {B_0} \\\\\n",
    "i{\\mathbf{k}} \\times {{{\\mathbf{\\hat a}}}_2}{B_0} = \\frac{{4\\pi \\sigma \\mu }}{c}{{{\\mathbf{\\hat a}}}_{\\mathbf{1}}}{E_0} - i\\omega \\frac{\\mu \\epsilon}{c}{{{\\mathbf{\\hat a}}}_{\\mathbf{1}}}{E_0}\n",
    "$$\n",
    "\n",
    "Try to convert the last equation:  \n",
    "$$\\begin{equation}\n",
    "i{\\mathbf{k}} \\times {{{\\mathbf{\\hat a}}}_2} = {{{\\mathbf{\\hat a}}}_{\\mathbf{1}}}\\frac{\\omega }{{kc}}\\mu (\\frac{{4\\pi \\sigma  - i\\omega \\varepsilon }}{c})\n",
    "\\end{equation}$$\n",
    "$$\n",
    "\\Rightarrow i{\\mathbf{k}} \\times {{{\\mathbf{\\hat a}}}_2} =  - {{{\\mathbf{\\hat a}}}_{\\mathbf{1}}}i\\frac{{{\\omega ^2}}}{{k{c^2}}}\\mu \\varepsilon (1 + \\frac{{4\\pi i\\sigma }}{{\\omega \\varepsilon }}) =  - {{{\\mathbf{\\hat a}}}_{\\mathbf{1}}}i\\frac{{{\\omega ^2}}}{{k{c^2}}}m^2 \n",
    "$$"
   ]
  },
  {
   "cell_type": "markdown",
   "metadata": {},
   "source": [
    "since we know E, B, k are perpendicular to each other: \n",
    "\n",
    "$$\n",
    "{{{\\mathbf{\\hat a}}}_{\\mathbf{1}}} \\times {{{\\mathbf{\\hat a}}}_2} \\propto {\\mathbf{k}}\n",
    "$$\n",
    "\n",
    "So let's take out the vector terms:\n",
    "$$\\begin{equation}\n",
    "{k^2} = \\frac{{{\\omega ^2}}}{{{c^2}}}{m^2}\n",
    "\\end{equation}$$"
   ]
  },
  {
   "cell_type": "markdown",
   "metadata": {
    "collapsed": true
   },
   "source": [
    "b. \n",
    "\n",
    "Suppose transverse on z-axis. \n",
    "The Poynting vector: \n",
    "\n",
    "$$\\begin{equation}\n",
    "{\\mathbf{S}} \\propto {e^{ - {\\alpha _\\nu }z}}\n",
    "\\end{equation}$$\n",
    "\n",
    "from plane wave approx and we only take the real terms in exponential terms:  \n",
    "$$\n",
    "{\\mathbf{E}} = {{{\\mathbf{\\hat a}}}_{\\mathbf{1}}}{E_0}{{\\text{e}}^{i({\\mathbf{k}} \\cdot {\\mathbf{r}} - \\omega t)}} \\propto {e^{{-\\text{Im(}}\\frac{{\\omega m}}{c} \\cdot z)}} \\\\\n",
    "{\\mathbf{B}} = {{{\\mathbf{\\hat a}}}_2}{B_0}{{\\text{e}}^{i({\\mathbf{k}} \\cdot {\\mathbf{r}} - \\omega t)}} \\propto {e^{{-\\text{Im(}}\\frac{{\\omega m}}{c} \\cdot z)}}\n",
    "$$\n",
    "\n",
    "So that:\n",
    "\n",
    "$$\\begin{equation}\n",
    "S \\propto EB \\propto {e^{ - {\\alpha _\\nu }z}} \\propto {e^{-2{\\text{Im(}}\\frac{{\\omega m}}{c} \\cdot z)}}\n",
    "\\end{equation}$$\n",
    "\n",
    "we have:  \n",
    "$$\\begin{equation}\n",
    "{\\alpha _\\nu } = 2\\frac{\\omega}{c}{\\text{Im}}(m)\n",
    "\\end{equation}$$"
   ]
  },
  {
   "cell_type": "markdown",
   "metadata": {},
   "source": [
    "## 2.3 \n",
    "\n",
    "a. \n",
    "$$\\begin{equation}\n",
    "{{\\mathbf{F}}_{{\\mathbf{visc}}}} + {{\\mathbf{F}}_{{\\mathbf{Lorentz}}}} = 0 \\Rightarrow {\\mathbf{v}} = Q{\\mathbf{E}}/\\beta \n",
    "\\end{equation}$$\n",
    "\n",
    "$$\\begin{equation}\n",
    "{\\text{period}} \\times v = 2\\pi r \\Rightarrow r = \\frac{{{\\text{period}}}}{{2\\pi }} \\times v = \\frac{{QE}}{{\\beta \\omega }}\n",
    "\\end{equation}$$"
   ]
  },
  {
   "cell_type": "markdown",
   "metadata": {},
   "source": [
    "b. \n",
    "\n",
    "$$\\begin{equation}\n",
    "P =  - {\\mathbf{v}} \\cdot {{\\mathbf{F}}_{{\\mathbf{visc}}}} = \\beta {v^2} = {Q^2}{E^2}/\\beta \n",
    "\\end{equation}$$"
   ]
  },
  {
   "cell_type": "markdown",
   "metadata": {},
   "source": [
    "c. \n",
    "\n",
    "magnetic part of the Lorentz force is:\n",
    "$$\\begin{equation}\n",
    "{F_{mag}} = Q\\frac{v}{c}B = Q\\frac{v}{c}E = \\frac{{{Q^2}{E^2}}}{{\\beta c}}\n",
    "\\end{equation}$$\n",
    "\n",
    "with the assumption $E=B$ and cgs unit [lorentz force](https://en.wikipedia.org/wiki/Lorentz_force#Equation_in_cgs_units)"
   ]
  },
  {
   "cell_type": "markdown",
   "metadata": {},
   "source": [
    "d. \n",
    "\n",
    "- left hand -> counterclock for charge rotation.\n",
    "- right hand -> colckwise for charge rotation.\n",
    "\n",
    "left hand -> \n",
    "$$\\begin{equation}\n",
    "\\tau  = \\left| {{{\\mathbf{F}}_{Lorentz}} \\times {\\mathbf{r}}} \\right| = QEQE/\\beta /\\omega  = \\frac{{{Q^2}{E^2}}}{{\\beta \\omega }}\n",
    "\\end{equation}$$\n",
    "\n",
    "right hand ->\n",
    "$$\\begin{equation}\n",
    "\\tau  = \\left| {{{\\mathbf{F}}_{Lorentz}} \\times {\\mathbf{r}}} \\right| =  - QEQE/\\beta /\\omega  =  - \\frac{{{Q^2}{E^2}}}{{\\beta \\omega }}\n",
    "\\end{equation}$$"
   ]
  },
  {
   "cell_type": "markdown",
   "metadata": {},
   "source": [
    "e. \n",
    "\n",
    "`power = cross section * flux`\n",
    "\n",
    "$$\n",
    "{Q^2}{E^2}/\\beta  = \\sigma  \\times S = \\sigma c{E^2}/4/\\pi \n",
    "$$\n",
    "\n",
    "$$\\begin{equation}\n",
    "\\sigma  = \\frac{{4\\pi {Q^2}}}{{\\beta c}}\n",
    "\\end{equation}$$"
   ]
  },
  {
   "cell_type": "markdown",
   "metadata": {},
   "source": [
    "f. \n",
    "\n",
    "- `momentum = energy / c`?\n",
    "\n",
    "$$\n",
    "\\frac{{\\Delta p}}{{\\Delta E}} = \\frac{{\\Delta p/\\Delta t}}{{\\Delta E/\\Delta t}} \\sim \\frac{{{F_{mag}}}}{P} = \\frac{{{Q^2}{E^2}}}{{\\beta c}}/\\left( {{Q^2}{E^2}/\\beta } \\right) = \\frac{1}{c}\n",
    "$$\n",
    "\n",
    "$$\\begin{equation}\n",
    "\\Delta p = \\Delta E/c\n",
    "\\end{equation}$$\n",
    "\n",
    "- `angular momentum = +- h bar = energy / omega`?\n",
    "\n",
    "$$\\begin{equation}\n",
    "\\frac{{\\Delta \\tau }}{{\\Delta E}} =  \\pm \\frac{{{Q^2}{E^2}}}{{\\beta \\omega }}/\\left( {{Q^2}{E^2}/\\beta } \\right) =  \\pm \\frac{1}{\\omega } =  \\pm \\hbar \n",
    "\\end{equation}$$"
   ]
  },
  {
   "cell_type": "markdown",
   "metadata": {},
   "source": [
    "Repeat the problem in linear polarization (WTF!? I need to repeat the problems?? QAQ)"
   ]
  },
  {
   "cell_type": "markdown",
   "metadata": {},
   "source": [
    "linear-a. \n",
    "\n",
    "Suppose polarize on x-axis (assume we can choose the coordinate).\n",
    "\n",
    "$$\n",
    "{\\mathbf{E}} = {\\mathbf{\\hat x}}E\\cos \\omega t\n",
    "$$\n",
    "\n",
    "$$\\begin{equation}\n",
    "{{\\mathbf{F}}_{{\\mathbf{visc}}}} + {{\\mathbf{F}}_{{\\mathbf{Lorentz}}}} = 0 \\Rightarrow {\\mathbf{v}} = Q{\\mathbf{E}}/\\beta  = {\\mathbf{\\hat x}}\\frac{{QE}}{\\beta }\\cos \\omega t\n",
    "\\end{equation}$$"
   ]
  },
  {
   "cell_type": "markdown",
   "metadata": {},
   "source": [
    "linear-b. \n",
    "\n",
    "power should be 1/2 of the circular because of the `cos` square term. \n",
    "\n",
    "$$\\begin{equation}\n",
    "\\left\\langle P \\right\\rangle  = \\beta \\left\\langle {{v^2}} \\right\\rangle  = \\frac{{{Q^2}{E^2}}}{{2\\beta }}\n",
    "\\end{equation}$$"
   ]
  },
  {
   "cell_type": "markdown",
   "metadata": {},
   "source": [
    "linear-c.\n",
    "\n",
    "we have `v dot E` term in this case, so the value should be 1/2 of the circular counterpart.\n",
    "\n",
    "$$\\begin{equation}\n",
    "\\left\\langle {{F_{mag}}} \\right\\rangle  = Q/c\\left\\langle {{\\mathbf{v}} \\cdot {\\mathbf{E}}} \\right\\rangle  = \\frac{{{Q^2}{E^2}}}{{2\\beta c}}\n",
    "\\end{equation}$$"
   ]
  },
  {
   "cell_type": "markdown",
   "metadata": {},
   "source": [
    "linear-d.\n",
    "\n",
    "$\\tau$ is only suitable for the situation with angular momentum."
   ]
  },
  {
   "cell_type": "markdown",
   "metadata": {},
   "source": [
    "linear-e. \n",
    "\n",
    "$$\\left\\langle P \\right\\rangle  = \\sigma  \\times \\left\\langle S \\right\\rangle  = \\sigma \\frac{c}{{4\\pi }}\\left\\langle {{E^2}} \\right\\rangle $$\n",
    "\n",
    "$$\\begin{equation}\n",
    "\\frac{{{Q^2}{E^2}}}{{2\\beta }} = \\sigma \\frac{{c{E^2}}}{{8\\pi }} \\Rightarrow \\sigma  = \\frac{{4\\pi {Q^2}}}{{\\beta c}}\n",
    "\\end{equation}$$"
   ]
  },
  {
   "cell_type": "markdown",
   "metadata": {},
   "source": [
    "linear-f. \n",
    "\n",
    "- `momentum = energy / c`?\n",
    "\n",
    "$$\n",
    "\\frac{{\\Delta p}}{{\\Delta E}} = \\frac{{\\Delta p/\\Delta t}}{{\\Delta E/\\Delta t}} \\sim \\frac{{\\left\\langle {{F_{mag}}} \\right\\rangle }}{{\\left\\langle P \\right\\rangle }} = \\frac{{{Q^2}{E^2}}}{{2\\beta c}}/\\left( {{Q^2}{E^2}/2\\beta } \\right) = \\frac{1}{c}$$\n",
    "\n",
    "$$\\begin{equation}\n",
    "\\Delta p = \\Delta E/c\n",
    "\\end{equation}$$\n",
    "\n",
    "- `angular momentum = +- h bar = energy / omega`?\n",
    "\n",
    "Well, the angular momentum is zero."
   ]
  },
  {
   "cell_type": "markdown",
   "metadata": {},
   "source": [
    "## Stokes Parameters\n",
    "\n",
    "Perhaps I can try to follow 闕老大's steps:\n",
    "\n",
    "$$\n",
    "{E_x}(t) = {{\\hat E}_x}{e^{i\\omega t + i{\\phi _x}}} \\\\\n",
    "{E_y}(t) = {{\\hat E}_y}{e^{i\\omega t + i{\\phi _y}}} \\\\\n",
    "I = \\frac{{{{\\left| {{E_x}} \\right|}^2} + {{\\left| {{E_y}} \\right|}^2}}}{2} \\\\\n",
    "Q = \\frac{{{{\\left| {{E_x}} \\right|}^2} - {{\\left| {{E_y}} \\right|}^2}}}{2} \\\\\n",
    "U = \\operatorname{Re} [{E_x}{E_y}^*] \\\\\n",
    "V = \\operatorname{Im} [{E_x}{E_y}^*] \n",
    "$$"
   ]
  },
  {
   "cell_type": "markdown",
   "metadata": {},
   "source": [
    "We have:  \n",
    "$$\n",
    "{I^2} = \\frac{{{{\\left| {{E_x}} \\right|}^4} + {{\\left| {{E_y}} \\right|}^4} + 2{{\\left| {{E_y}} \\right|}^2}{{\\left| {{E_x}} \\right|}^2}}}{4}\n",
    "$$"
   ]
  },
  {
   "cell_type": "markdown",
   "metadata": {},
   "source": [
    "Suppose \n",
    "$$\n",
    "{E_x} = (a + bi) \\\\\n",
    "{E_y}^* = (c + di) \\\\\n",
    "{E_x}{E_y}^* = (ac - bd) + i(ad + bc)\n",
    "$$\n",
    "\n",
    "$$\n",
    "\\operatorname{Re} {[{E_x}{E_y}^*]^2} + \\operatorname{Im} {[{E_x}{E_y}^*]^2} = \\\\\n",
    "{(ac - bd)^2} + {(ad + bc)^2} = ({a^2} - {b^2})({d^2} - {c^2}) = {\\left| {{E_x}} \\right|^2}{\\left| {{E_y}} \\right|^2}\n",
    "$$"
   ]
  },
  {
   "cell_type": "markdown",
   "metadata": {},
   "source": [
    "So that, \n",
    "\n",
    "$$\\begin{equation}\n",
    "{V^2} + {U^2} = {\\left| {{E_x}} \\right|^2}{\\left| {{E_y}} \\right|^2}\n",
    "\\end{equation}$$\n",
    "\n",
    "We achieve:\n",
    "\n",
    "$$\\begin{equation}\n",
    "{Q^2} + {U^2} + {V^2} = \\frac{{{{\\left| {{E_x}} \\right|}^4} + {{\\left| {{E_y}} \\right|}^4} - 2{{\\left| {{E_y}} \\right|}^2}{{\\left| {{E_x}} \\right|}^2}}}{4} + {\\left| {{E_x}} \\right|^2}{\\left| {{E_y}} \\right|^2} = \\frac{{{{\\left| {{E_x}} \\right|}^4} + {{\\left| {{E_y}} \\right|}^4} + 2{{\\left| {{E_y}} \\right|}^2}{{\\left| {{E_x}} \\right|}^2}}}{4} = {I^2}\n",
    "\\end{equation}$$"
   ]
  },
  {
   "cell_type": "markdown",
   "metadata": {},
   "source": [
    "## HW 3\n",
    "\n",
    "Prove: \n",
    "\n",
    "$$\\begin{equation}\n",
    "{\\mathbf{n}} \\times \\left\\{ {({\\mathbf{n}} - \\beta ) \\times \\dot \\beta } \\right\\}{\\kappa ^{ - 2}} = \\frac{d}{{dt'}}\\left[ {{\\kappa ^{ - 1}}{\\mathbf{n}} \\times ({\\mathbf{n}} \\times \\beta )} \\right]\n",
    "\\end{equation}$$"
   ]
  },
  {
   "cell_type": "markdown",
   "metadata": {},
   "source": [
    "`<pf>`\n",
    "\n",
    "Let's start from right hand side:  \n",
    "$$\\begin{equation}\n",
    "\\frac{d}{{dt'}}\\left[ {{\\kappa ^{ - 1}}{\\mathbf{n}} \\times ({\\mathbf{n}} \\times \\beta )} \\right] = \\frac{d}{{dt'}}\\left( {\\frac{1}{\\kappa }} \\right){\\mathbf{n}} \\times ({\\mathbf{n}} \\times \\beta ) + {\\kappa ^{ - 1}}\\frac{d}{{dt'}}\\left( {{\\mathbf{n}} \\times ({\\mathbf{n}} \\times \\beta )} \\right)\n",
    "\\end{equation}$$"
   ]
  },
  {
   "cell_type": "markdown",
   "metadata": {},
   "source": [
    "Try first term in RHS of `(23)`:  \n",
    "\n",
    "$$\\begin{equation}\n",
    "\\frac{d}{{dt'}}\\left( {\\frac{1}{\\kappa }} \\right){\\mathbf{n}} \\times ({\\mathbf{n}} \\times \\beta ) = {\\kappa ^{ - 2}}({\\mathbf{n}} \\cdot \\dot \\beta ){\\mathbf{n}} \\times ({\\mathbf{n}} \\times \\beta )\n",
    "\\end{equation}$$"
   ]
  },
  {
   "cell_type": "markdown",
   "metadata": {},
   "source": [
    "Try second term in LHS of `(23)`:  \n",
    "\n",
    "$$\\begin{equation}\n",
    "{\\kappa ^{ - 1}}\\frac{d}{{dt'}}\\left( {{\\mathbf{n}} \\times ({\\mathbf{n}} \\times \\beta )} \\right) = {\\kappa ^{ - 2}}(1 - {\\mathbf{n}} \\cdot \\beta )\\left( {{\\mathbf{n}} \\times ({\\mathbf{n}} \\times \\dot \\beta )} \\right)\n",
    "\\end{equation}$$"
   ]
  },
  {
   "cell_type": "markdown",
   "metadata": {},
   "source": [
    "Sum of RHS of `(23)`:\n",
    "\n",
    "$$\\begin{equation}\n",
    "{\\kappa ^{ - 2}}\\left[ {\\left( {{\\mathbf{n}} \\times ({\\mathbf{n}} \\times \\dot \\beta )} \\right) - {\\mathbf{n}} \\cdot \\beta \\left( {{\\mathbf{n}} \\times ({\\mathbf{n}} \\times \\dot \\beta )} \\right) + ({\\mathbf{n}} \\cdot \\dot \\beta ){\\mathbf{n}} \\times ({\\mathbf{n}} \\times \\beta )} \\right]\n",
    "\\end{equation}$$"
   ]
  },
  {
   "cell_type": "markdown",
   "metadata": {},
   "source": [
    "You can see the first term in `(26)` is the first term in LHS of `(22)`, if you don't believe, we can separate the RHS of `(22)`:  \n",
    "\n",
    "$$\\begin{equation}\n",
    "{\\kappa ^{ - 2}}{\\mathbf{n}} \\times \\left\\{ {({\\mathbf{n}} - \\beta ) \\times \\dot \\beta } \\right\\} = {\\kappa ^{ - 2}}\\left[ {{\\mathbf{n}} \\times ({\\mathbf{n}} \\times \\dot \\beta ) - {\\mathbf{n}} \\times (\\beta  \\times \\dot \\beta )} \\right]\n",
    "\\end{equation}$$"
   ]
  },
  {
   "cell_type": "markdown",
   "metadata": {},
   "source": [
    "Back to the RHS of `(22)`. In `(26)`, we only need to deal with the second and third term:  \n",
    "$$\\begin{equation}\n",
    "- {\\mathbf{n}} \\cdot \\beta \\left( {{\\mathbf{n}} \\times ({\\mathbf{n}} \\times \\dot \\beta )} \\right) + ({\\mathbf{n}} \\cdot \\dot \\beta ){\\mathbf{n}} \\times ({\\mathbf{n}} \\times \\beta ) \\\\\n",
    "= - {\\mathbf{n}} \\cdot \\beta \\left( {{\\mathbf{n}}({\\mathbf{n}} \\cdot \\dot \\beta ) - \\dot \\beta } \\right) + {\\mathbf{n}} \\cdot \\dot \\beta \\left( {{\\mathbf{n}}({\\mathbf{n}} \\cdot \\beta ) - \\beta } \\right) \\\\\n",
    "= \\dot \\beta ({\\mathbf{n}} \\cdot \\beta ) - \\beta ({\\mathbf{n}} \\cdot \\dot \\beta ) = {\\mathbf{n}} \\times (\\dot \\beta  \\times \\beta ) =  - {\\mathbf{n}} \\times (\\beta  \\times \\dot \\beta ) \n",
    "\\end{equation}$$\n",
    "\n",
    "Just some boring algebra, check [Triple product expansion](https://en.wikipedia.org/wiki/Cross_product#Triple_product_expansion)"
   ]
  },
  {
   "cell_type": "markdown",
   "metadata": {},
   "source": [
    "Now bring back to `(26)`:  \n",
    "$$\\begin{equation}\n",
    "{\\kappa ^{ - 2}}\\left[ {\\left( {{\\mathbf{n}} \\times ({\\mathbf{n}} \\times \\dot \\beta )} \\right) - {\\mathbf{n}} \\times (\\beta  \\times \\dot \\beta )} \\right] = {\\kappa ^{ - 2}}{\\mathbf{n}} \\times \\left\\{ {({\\mathbf{n}} - \\beta ) \\times \\dot \\beta } \\right\\}\n",
    "\\end{equation}$$"
   ]
  },
  {
   "cell_type": "markdown",
   "metadata": {},
   "source": [
    "WooooW~~~ it is the same the LHS of `(22)` (Sorry, I know I am silly.)"
   ]
  },
  {
   "cell_type": "code",
   "execution_count": null,
   "metadata": {
    "collapsed": true
   },
   "outputs": [],
   "source": []
  }
 ],
 "metadata": {
  "hide_input": false,
  "kernelspec": {
   "display_name": "Python 3",
   "language": "python",
   "name": "python3"
  },
  "language_info": {
   "codemirror_mode": {
    "name": "ipython",
    "version": 3
   },
   "file_extension": ".py",
   "mimetype": "text/x-python",
   "name": "python",
   "nbconvert_exporter": "python",
   "pygments_lexer": "ipython3",
   "version": "3.6.1"
  },
  "latex_envs": {
   "LaTeX_envs_menu_present": true,
   "bibliofile": "biblio.bib",
   "cite_by": "apalike",
   "current_citInitial": 1,
   "eqLabelWithNumbers": true,
   "eqNumInitial": 1,
   "labels_anchors": false,
   "latex_user_defs": false,
   "report_style_numbering": false,
   "user_envs_cfg": false
  }
 },
 "nbformat": 4,
 "nbformat_minor": 2
}
