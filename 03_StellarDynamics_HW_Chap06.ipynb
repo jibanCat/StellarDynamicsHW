{
 "cells": [
  {
   "cell_type": "code",
   "execution_count": 1,
   "metadata": {
    "collapsed": true
   },
   "outputs": [],
   "source": [
    "import sympy as sp\n",
    "sp.init_printing()"
   ]
  },
  {
   "cell_type": "markdown",
   "metadata": {},
   "source": [
    "# 03_StellarDynamics_HW_Chap06 "
   ]
  },
  {
   "cell_type": "markdown",
   "metadata": {},
   "source": [
    "# Question (1) Low Surface Density Part"
   ]
  },
  {
   "cell_type": "code",
   "execution_count": 2,
   "metadata": {
    "collapsed": true
   },
   "outputs": [],
   "source": [
    "# initialize the symbols\n",
    "kappa, kappa_0, P, T, F_rad, F_conv, a, b, mu = sp.symbols(\n",
    "    'kappa kappa_0 P T F_rad F_conv a b mu')"
   ]
  },
  {
   "cell_type": "code",
   "execution_count": 3,
   "metadata": {},
   "outputs": [
    {
     "data": {
      "image/png": "[encoded data removed]",
      "text/latex": [
       "$$\\kappa = P^{a} T^{b} \\kappa_{0}$$"
      ],
      "text/plain": [
       "     a  b   \n",
       "κ = P ⋅T ⋅κ₀"
      ]
     },
     "execution_count": 3,
     "metadata": {},
     "output_type": "execute_result"
    }
   ],
   "source": [
    "# kappa for opacity\n",
    "exprK = sp.Eq(kappa, kappa_0 * P**a * T**b)\n",
    "exprK"
   ]
  },
  {
   "cell_type": "code",
   "execution_count": 4,
   "metadata": {},
   "outputs": [
    {
     "data": {
      "image/png": "[encoded data removed]",
      "text/latex": [
       "$$P_{ph} = \\frac{2 g}{3 \\kappa} \\left(a + 1\\right)$$"
      ],
      "text/plain": [
       "      2⋅g⋅(a + 1)\n",
       "Pₚₕ = ───────────\n",
       "          3⋅κ    "
      ]
     },
     "execution_count": 4,
     "metadata": {},
     "output_type": "execute_result"
    }
   ],
   "source": [
    "# eq (6.121), pressure for photosphere with optical depth = 3/2\n",
    "eqPh = sp.Eq(sp.simplify('P_ph'), \n",
    "             sp.simplify('2/3 * (1+a) * g / (kappa)'))\n",
    "eqPh"
   ]
  },
  {
   "cell_type": "code",
   "execution_count": 5,
   "metadata": {},
   "outputs": [
    {
     "data": {
      "image/png": "[encoded data removed]",
      "text/latex": [
       "$$F_{rad} = \\frac{a c}{4} T^{4}$$"
      ],
      "text/plain": [
       "         4    \n",
       "        T ⋅a⋅c\n",
       "F_rad = ──────\n",
       "          4   "
      ]
     },
     "execution_count": 5,
     "metadata": {},
     "output_type": "execute_result"
    }
   ],
   "source": [
    "# approx expression for F_rad in (6.123)\n",
    "exprFr = sp.Eq(F_rad, sp.simplify('a * c / 4 * T^4'))\n",
    "exprFr"
   ]
  },
  {
   "cell_type": "code",
   "execution_count": 6,
   "metadata": {},
   "outputs": [
    {
     "data": {
      "image/png": "[encoded data removed]",
      "text/latex": [
       "$$F_{conv} = \\frac{T c_{P}}{2} \\rho v$$"
      ],
      "text/plain": [
       "         T⋅c_P⋅ρ⋅v\n",
       "F_conv = ─────────\n",
       "             2    "
      ]
     },
     "execution_count": 6,
     "metadata": {},
     "output_type": "execute_result"
    }
   ],
   "source": [
    "# (6.124)\n",
    "exprFc = sp.Eq(F_conv, sp.simplify('1/2 * rho * c_P * v * T'))\n",
    "exprFc"
   ]
  },
  {
   "cell_type": "code",
   "execution_count": 7,
   "metadata": {},
   "outputs": [
    {
     "data": {
      "image/png": "[encoded data removed]",
      "text/latex": [
       "$$v = \\frac{1}{2} \\sqrt{\\frac{T \\gamma k}{m_{H} \\mu}}$$"
      ],
      "text/plain": [
       "        _______\n",
       "       ╱ T⋅γ⋅k \n",
       "      ╱  ───── \n",
       "    ╲╱   m_H⋅μ \n",
       "v = ───────────\n",
       "         2     "
      ]
     },
     "execution_count": 7,
     "metadata": {},
     "output_type": "execute_result"
    }
   ],
   "source": [
    "# approx the radial-velocity fluctuation \n",
    "v = sp.Symbol('v')\n",
    "gamma = sp.Symbol('gamma')\n",
    "exprV = sp.simplify('1 / 2 * ((r * k * T)/(mu * m_H))^(1/2)').subs(\n",
    "    sp.sympify('r'), gamma)\n",
    "sp.Eq(v, exprV)"
   ]
  },
  {
   "cell_type": "code",
   "execution_count": 8,
   "metadata": {},
   "outputs": [
    {
     "data": {
      "image/png": "[encoded data removed]",
      "text/latex": [
       "$$T c_{P} \\rho = \\frac{3 T \\gamma k \\rho}{2 m_{H} \\mu}$$"
      ],
      "text/plain": [
       "          3⋅T⋅γ⋅k⋅ρ\n",
       "T⋅c_P⋅ρ = ─────────\n",
       "           2⋅m_H⋅μ "
      ]
     },
     "execution_count": 8,
     "metadata": {},
     "output_type": "execute_result"
    }
   ],
   "source": [
    "# (6.126) approx ρcT to internal energy\n",
    "exprInternal = sp.simplify('3 / 2 * rho * (k * T / mu/ m_H)') * gamma \n",
    "eqInternal = sp.Eq(sp.simplify('rho * c_P * T'), exprInternal)\n",
    "eqInternal"
   ]
  },
  {
   "cell_type": "code",
   "execution_count": 9,
   "metadata": {},
   "outputs": [
    {
     "data": {
      "image/png": "[encoded data removed]",
      "text/latex": [
       "$$\\rho = \\frac{P}{T k}$$"
      ],
      "text/plain": [
       "     P \n",
       "ρ = ───\n",
       "    T⋅k"
      ]
     },
     "execution_count": 9,
     "metadata": {},
     "output_type": "execute_result"
    }
   ],
   "source": [
    "# ideal gas law\n",
    "eqIdeal = sp.Eq(P, sp.simplify('rho * k * T'))\n",
    "eqIdeal = sp.solve(eqIdeal, sp.simplify('rho'))[0]\n",
    "sp.Eq(sp.simplify('rho'), eqIdeal)"
   ]
  },
  {
   "cell_type": "code",
   "execution_count": 10,
   "metadata": {},
   "outputs": [
    {
     "data": {
      "image/png": "[encoded data removed]",
      "text/latex": [
       "$$F_{conv} = \\frac{3 P \\gamma}{8 m_{H} \\mu} \\sqrt{\\frac{T \\gamma k}{m_{H} \\mu}}$$"
      ],
      "text/plain": [
       "                   _______\n",
       "                  ╱ T⋅γ⋅k \n",
       "         3⋅P⋅γ⋅  ╱  ───── \n",
       "               ╲╱   m_H⋅μ \n",
       "F_conv = ─────────────────\n",
       "              8⋅m_H⋅μ     "
      ]
     },
     "execution_count": 10,
     "metadata": {},
     "output_type": "execute_result"
    }
   ],
   "source": [
    "# substitute (6.124)\n",
    "exprFc = exprFc.subs(\n",
    "    eqInternal.lhs, eqInternal.rhs).subs(\n",
    "    v, exprV).subs(sp.simplify('rho'), eqIdeal)\n",
    "exprFc\n",
    "# This is eq (6.127)"
   ]
  },
  {
   "cell_type": "code",
   "execution_count": 11,
   "metadata": {},
   "outputs": [
    {
     "data": {
      "image/png": "[encoded data removed]",
      "text/latex": [
       "$$F_{conv} = F_{rad}$$"
      ],
      "text/plain": [
       "F_conv = F_rad"
      ]
     },
     "execution_count": 11,
     "metadata": {},
     "output_type": "execute_result"
    }
   ],
   "source": [
    "# for energy conservation, the radiative flux which enters the\n",
    "# sphere shold equals to the convective flux leaving the \n",
    "# stellar interior\n",
    "sp.Eq(exprFc.lhs, exprFr.lhs)"
   ]
  },
  {
   "cell_type": "code",
   "execution_count": 12,
   "metadata": {},
   "outputs": [
    {
     "data": {
      "image/png": "[encoded data removed]",
      "text/latex": [
       "$$P_{ph} = \\frac{2 T^{4} a c m_{H} \\mu}{3 \\gamma \\sqrt{\\frac{T \\gamma k}{m_{H} \\mu}}}$$"
      ],
      "text/plain": [
       "          4          \n",
       "       2⋅T ⋅a⋅c⋅m_H⋅μ\n",
       "Pₚₕ = ───────────────\n",
       "              _______\n",
       "             ╱ T⋅γ⋅k \n",
       "      3⋅γ⋅  ╱  ───── \n",
       "          ╲╱   m_H⋅μ "
      ]
     },
     "execution_count": 12,
     "metadata": {},
     "output_type": "execute_result"
    }
   ],
   "source": [
    "# So we have\n",
    "eqFcFr = sp.Eq(exprFc.rhs, exprFr.rhs)\n",
    "eqP = sp.Eq(sp.simplify('P_ph'), sp.solve(eqFcFr, P)[0])\n",
    "eqP"
   ]
  },
  {
   "cell_type": "code",
   "execution_count": 13,
   "metadata": {},
   "outputs": [
    {
     "data": {
      "image/png": "[encoded data removed]",
      "text/latex": [
       "$$\\left [ \\left(\\frac{3^{2 a}}{\\kappa_{0}^{2}} 2^{- 2 a} a^{- 2 a - 2} c^{- 2 a - 2} g^{2} \\gamma^{3 a + 3} k^{a + 1} m_{H}^{- 3 a - 3} \\mu^{- 3 a - 3} \\left(a^{2} + 2 a + 1\\right)\\right)^{\\frac{1}{7 a + 2 b + 7}}\\right ]$$"
      ],
      "text/plain": [
       "⎡                                                                             \n",
       "⎢                                                                             \n",
       "⎢                                                                             \n",
       "⎢⎛ -2⋅a  2⋅a  -2⋅a - 2  -2⋅a - 2  2  3⋅a + 3  a + 1    -3⋅a - 3  -3⋅a - 3 ⎛ 2 \n",
       "⎢⎜2    ⋅3   ⋅a        ⋅c        ⋅g ⋅γ       ⋅k     ⋅m_H        ⋅μ        ⋅⎝a  \n",
       "⎢⎜────────────────────────────────────────────────────────────────────────────\n",
       "⎢⎜                                           2                                \n",
       "⎣⎝                                         κ₀                                 \n",
       "\n",
       "                 1      ⎤\n",
       "           ─────────────⎥\n",
       "           7⋅a + 2⋅b + 7⎥\n",
       "         ⎞⎞             ⎥\n",
       "+ 2⋅a + 1⎠⎟             ⎥\n",
       "──────────⎟             ⎥\n",
       "          ⎟             ⎥\n",
       "          ⎠             ⎦"
      ]
     },
     "execution_count": 13,
     "metadata": {},
     "output_type": "execute_result"
    }
   ],
   "source": [
    "# So, the effective temperature for the fully convective star\n",
    "# in low surface density is\n",
    "## here we substitute kappa and P_ph\n",
    "eqP = eqP.subs(eqPh.lhs, eqPh.rhs).subs(exprK.lhs, exprK.rhs).subs(P, eqP.rhs)\n",
    "\n",
    "## here we symbolically solve for T\n",
    "sp.solve(eqP, T)"
   ]
  },
  {
   "cell_type": "markdown",
   "metadata": {},
   "source": [
    "The above solution is awful.  \n",
    "But we can roughly see that the exponents of, e.g., $\\kappa_0$ is the same as `eq (6.129)`.  \n",
    "There is come inconsistent between above solution and `eq (6.129)`. However, since `eq. (6.129)` is just a approximation, let's just take the approximation made by the textbook."
   ]
  },
  {
   "cell_type": "code",
   "execution_count": 14,
   "metadata": {},
   "outputs": [
    {
     "data": {
      "image/png": "[encoded data removed]",
      "text/latex": [
       "$$T_{eff} = \\left(\\frac{M}{R^{2} \\kappa_{0}} \\mu^{- \\frac{a}{2} - \\frac{1}{2}}\\right)^{\\frac{1}{3.5 a + b + 3.5}}$$"
      ],
      "text/plain": [
       "                           1       \n",
       "                    ───────────────\n",
       "                    3.5⋅a + b + 3.5\n",
       "        ⎛     a   1⎞               \n",
       "        ⎜   - ─ - ─⎟               \n",
       "        ⎜     2   2⎟               \n",
       "        ⎜M⋅μ       ⎟               \n",
       "T_eff = ⎜──────────⎟               \n",
       "        ⎜   2      ⎟               \n",
       "        ⎝  R ⋅κ₀   ⎠               "
      ]
     },
     "execution_count": 14,
     "metadata": {},
     "output_type": "execute_result"
    }
   ],
   "source": [
    "# eq (6.129), effective temperature T for low surface density\n",
    "eqTeff = sp.Eq(sp.simplify('T_eff'), \n",
    "    sp.simplify('(M / mu^((a+1)/2) / kappa_0 / R^2)^(1/(b+3.5*(1+a)))'))\n",
    "eqTeff"
   ]
  },
  {
   "cell_type": "markdown",
   "metadata": {},
   "source": [
    "- Population 1"
   ]
  },
  {
   "cell_type": "code",
   "execution_count": 15,
   "metadata": {},
   "outputs": [
    {
     "data": {
      "image/png": "[encoded data removed]",
      "text/latex": [
       "$$T_{eff} = 172.403765657998 \\left(\\frac{M}{R^{2} \\mu^{0.85}}\\right)^{0.0888888888888889}$$"
      ],
      "text/plain": [
       "                                   0.0888888888888889\n",
       "                         ⎛   -0.85⎞                  \n",
       "                         ⎜M⋅μ     ⎟                  \n",
       "T_eff = 172.403765657998⋅⎜────────⎟                  \n",
       "                         ⎜    2   ⎟                  \n",
       "                         ⎝   R    ⎠                  "
      ]
     },
     "execution_count": 15,
     "metadata": {},
     "output_type": "execute_result"
    }
   ],
   "source": [
    "# Population I effective temperature \n",
    "eqTeff.subs(a, 0.7).subs(b, 5.3).subs(kappa_0, 6.9*10**-26)"
   ]
  },
  {
   "cell_type": "markdown",
   "metadata": {},
   "source": [
    "- Population 2"
   ]
  },
  {
   "cell_type": "code",
   "execution_count": 16,
   "metadata": {},
   "outputs": [
    {
     "data": {
      "image/png": "[encoded data removed]",
      "text/latex": [
       "$$T_{eff} = 411.444578710355 \\left(\\frac{M}{R^{2} \\mu^{0.8}}\\right)^{0.0666666666666667}$$"
      ],
      "text/plain": [
       "                                  0.0666666666666667\n",
       "                         ⎛   -0.8⎞                  \n",
       "                         ⎜M⋅μ    ⎟                  \n",
       "T_eff = 411.444578710355⋅⎜───────⎟                  \n",
       "                         ⎜    2  ⎟                  \n",
       "                         ⎝   R   ⎠                  "
      ]
     },
     "execution_count": 16,
     "metadata": {},
     "output_type": "execute_result"
    }
   ],
   "source": [
    "# Population II effective temperature \n",
    "eqTeff.subs(a, 0.6).subs(b, 9.4).subs(kappa_0, 6.1*10**-40)"
   ]
  },
  {
   "cell_type": "markdown",
   "metadata": {},
   "source": [
    "# Question (2) Low Surface Density Part"
   ]
  },
  {
   "cell_type": "code",
   "execution_count": 17,
   "metadata": {},
   "outputs": [
    {
     "data": {
      "image/png": "[encoded data removed]",
      "text/latex": [
       "$$L = 4 \\pi R^{2} T_{eff}^{4} \\sigma$$"
      ],
      "text/plain": [
       "         2      4  \n",
       "L = 4⋅π⋅R ⋅T_eff ⋅σ"
      ]
     },
     "execution_count": 17,
     "metadata": {},
     "output_type": "execute_result"
    }
   ],
   "source": [
    "eqL = sp.Eq(sp.simplify('L'), \n",
    "            sp.simplify('4 * pi * sigma * R^2 * T_eff^4'))\n",
    "# equaiton of luminosity \n",
    "eqL = sp.Eq(sp.simplify('L'), \n",
    "            sp.simplify('4 * pi * sigma * R^2 * T_eff^4'))\n",
    "eqL"
   ]
  },
  {
   "cell_type": "code",
   "execution_count": 18,
   "metadata": {},
   "outputs": [
    {
     "data": {
      "image/png": "[encoded data removed]",
      "text/latex": [
       "$$L = 4 \\pi R^{2} \\sigma \\left(\\frac{M}{R^{2} \\kappa_{0}} \\mu^{- \\frac{a}{2} - \\frac{1}{2}}\\right)^{\\frac{4}{3.5 a + b + 3.5}}$$"
      ],
      "text/plain": [
       "                                4       \n",
       "                         ───────────────\n",
       "                         3.5⋅a + b + 3.5\n",
       "             ⎛     a   1⎞               \n",
       "             ⎜   - ─ - ─⎟               \n",
       "             ⎜     2   2⎟               \n",
       "         2   ⎜M⋅μ       ⎟               \n",
       "L = 4⋅π⋅R ⋅σ⋅⎜──────────⎟               \n",
       "             ⎜   2      ⎟               \n",
       "             ⎝  R ⋅κ₀   ⎠               "
      ]
     },
     "execution_count": 18,
     "metadata": {},
     "output_type": "execute_result"
    }
   ],
   "source": [
    "# substitute for effective temperature\n",
    "eqL = eqL.subs(eqTeff.lhs, eqTeff.rhs)\n",
    "eqL"
   ]
  },
  {
   "cell_type": "markdown",
   "metadata": {},
   "source": [
    "- Population 1"
   ]
  },
  {
   "cell_type": "code",
   "execution_count": 19,
   "metadata": {},
   "outputs": [
    {
     "data": {
      "image/png": "[encoded data removed]",
      "text/latex": [
       "$$L = 3533840805.70423 \\pi R^{2} \\sigma \\left(\\frac{M}{R^{2} \\mu^{0.85}}\\right)^{0.355555555555556}$$"
      ],
      "text/plain": [
       "                                      0.355555555555556\n",
       "                            ⎛   -0.85⎞                 \n",
       "                        2   ⎜M⋅μ     ⎟                 \n",
       "L = 3533840805.70423⋅π⋅R ⋅σ⋅⎜────────⎟                 \n",
       "                            ⎜    2   ⎟                 \n",
       "                            ⎝   R    ⎠                 "
      ]
     },
     "execution_count": 19,
     "metadata": {},
     "output_type": "execute_result"
    }
   ],
   "source": [
    "# Population I luminosity\n",
    "eqL.subs(a, 0.7).subs(b, 5.3).subs(kappa_0, 6.9*10**-26)"
   ]
  },
  {
   "cell_type": "markdown",
   "metadata": {},
   "source": [
    "- Population 2"
   ]
  },
  {
   "cell_type": "code",
   "execution_count": 20,
   "metadata": {},
   "outputs": [
    {
     "data": {
      "image/png": "[encoded data removed]",
      "text/latex": [
       "$$L = 114631867758.445 \\pi R^{2} \\sigma \\left(\\frac{M}{R^{2} \\mu^{0.8}}\\right)^{0.266666666666667}$$"
      ],
      "text/plain": [
       "                                     0.266666666666667\n",
       "                            ⎛   -0.8⎞                 \n",
       "                        2   ⎜M⋅μ    ⎟                 \n",
       "L = 114631867758.445⋅π⋅R ⋅σ⋅⎜───────⎟                 \n",
       "                            ⎜    2  ⎟                 \n",
       "                            ⎝   R   ⎠                 "
      ]
     },
     "execution_count": 20,
     "metadata": {},
     "output_type": "execute_result"
    }
   ],
   "source": [
    "# Population II luminosity\n",
    "eqL.subs(a, 0.6).subs(b, 9.4).subs(kappa_0, 6.1*10**-40)"
   ]
  },
  {
   "cell_type": "markdown",
   "metadata": {},
   "source": [
    "# Question (1) High Surface Density Part\n",
    "\n",
    "For high surface density, the convective transport is efficient. The temperature gradient is adiabatic. So we may have...\n",
    "\n",
    "$$\n",
    "P \\propto \\rho^{\\gamma} \\propto \\rho T\n",
    "$$\n",
    "$$\n",
    "P \\propto T^{\\gamma / (\\gamma - 1)}\n",
    "$$"
   ]
  },
  {
   "cell_type": "code",
   "execution_count": 21,
   "metadata": {
    "scrolled": true
   },
   "outputs": [
    {
     "data": {
      "image/png": "[encoded data removed]",
      "text/latex": [
       "$$P = K T^{\\frac{\\gamma}{\\gamma - 1}}$$"
      ],
      "text/plain": [
       "         γ  \n",
       "       ─────\n",
       "       γ - 1\n",
       "P = K⋅T     "
      ]
     },
     "execution_count": 21,
     "metadata": {},
     "output_type": "execute_result"
    }
   ],
   "source": [
    "K = sp.Symbol('K')\n",
    "eqAdiabatic = sp.Eq(P, K * T**(gamma/(gamma-1)))\n",
    "eqAdiabatic"
   ]
  },
  {
   "cell_type": "markdown",
   "metadata": {},
   "source": [
    "So, we would have the relation between $P_{ph}$ and $P_{c}$"
   ]
  },
  {
   "cell_type": "code",
   "execution_count": 22,
   "metadata": {},
   "outputs": [
    {
     "data": {
      "image/png": "[encoded data removed]",
      "text/latex": [
       "$$\\frac{P_{c}}{T_{c}^{2.5}} = \\frac{P_{ph}}{T_{eff}^{2.5}}$$"
      ],
      "text/plain": [
       "       -2.5            -2.5\n",
       "P_c⋅T_c     = Pₚₕ⋅T_eff    "
      ]
     },
     "execution_count": 22,
     "metadata": {},
     "output_type": "execute_result"
    }
   ],
   "source": [
    "Pc, Tc = sp.symbols('P_c T_c')\n",
    "P_ph, T_eff = sp.symbols('P_ph T_eff')\n",
    "eqAdiabaticHigh = sp.Eq(\n",
    "    eqAdiabatic.subs(P, Pc).lhs / eqAdiabatic.subs(T, Tc).rhs * K, \n",
    "    eqAdiabatic.subs(P, P_ph).lhs / eqAdiabatic.subs(T, T_eff).rhs * K\n",
    "     ).subs(gamma, 5/3)\n",
    "eqAdiabaticHigh"
   ]
  },
  {
   "cell_type": "code",
   "execution_count": 23,
   "metadata": {},
   "outputs": [
    {
     "data": {
      "image/png": "[encoded data removed]",
      "text/latex": [
       "$$\\frac{P_{c}}{T_{c}^{2.5}} = \\frac{2 g \\left(a + 1\\right)}{3 T_{eff}^{2.5} \\kappa}$$"
      ],
      "text/plain": [
       "                     -2.5          \n",
       "       -2.5   2⋅T_eff    ⋅g⋅(a + 1)\n",
       "P_c⋅T_c     = ─────────────────────\n",
       "                       3⋅κ         "
      ]
     },
     "execution_count": 23,
     "metadata": {},
     "output_type": "execute_result"
    }
   ],
   "source": [
    "# P_ph Substitute with (6.121) \n",
    "eqHighSurface = eqAdiabaticHigh.subs(P_ph, eqPh.rhs)\n",
    "eqHighSurface"
   ]
  },
  {
   "cell_type": "code",
   "execution_count": 24,
   "metadata": {},
   "outputs": [
    {
     "data": {
      "image/png": "[encoded data removed]",
      "text/latex": [
       "$$\\frac{P_{c}}{T_{c}^{2.5}} = \\frac{2 P_{ph}^{- a} T_{eff}^{- b} g}{3 T_{eff}^{2.5} \\kappa_{0}} \\left(a + 1\\right)$$"
      ],
      "text/plain": [
       "                   -a      -2.5      -b          \n",
       "       -2.5   2⋅Pₚₕ  ⋅T_eff    ⋅T_eff  ⋅g⋅(a + 1)\n",
       "P_c⋅T_c     = ───────────────────────────────────\n",
       "                              3⋅κ₀               "
      ]
     },
     "execution_count": 24,
     "metadata": {},
     "output_type": "execute_result"
    }
   ],
   "source": [
    "# substitute kappa \n",
    "eqHighSurface = eqHighSurface.subs(kappa, exprK.rhs).subs(T, T_eff).subs(P, P_ph)\n",
    "eqHighSurface"
   ]
  },
  {
   "cell_type": "code",
   "execution_count": 25,
   "metadata": {},
   "outputs": [
    {
     "data": {
      "image/png": "[encoded data removed]",
      "text/latex": [
       "$$\\frac{P_{c}}{T_{c}^{2.5}} = \\frac{2 T_{eff}^{- b} g}{3 T_{eff}^{2.5} \\kappa_{0}} \\left(\\frac{P_{c} T_{eff}^{\\frac{5}{2}}}{T_{c}^{\\frac{5}{2}}}\\right)^{- a} \\left(a + 1\\right)$$"
      ],
      "text/plain": [
       "                                                  -a        \n",
       "                                    ⎛         5/2⎞          \n",
       "                     -2.5      -b   ⎜P_c⋅T_eff   ⎟          \n",
       "              2⋅T_eff    ⋅T_eff  ⋅g⋅⎜────────────⎟  ⋅(a + 1)\n",
       "                                    ⎜      5/2   ⎟          \n",
       "       -2.5                         ⎝   T_c      ⎠          \n",
       "P_c⋅T_c     = ──────────────────────────────────────────────\n",
       "                                   3⋅κ₀                     "
      ]
     },
     "execution_count": 25,
     "metadata": {},
     "output_type": "execute_result"
    }
   ],
   "source": [
    "# it is awuful that I need to replace P_ph with Pc/Tc again \n",
    "eqHighSurface = eqHighSurface.subs(P_ph, \n",
    "    sp.solve(eqAdiabaticHigh, P_ph)[0])\n",
    "eqHighSurface"
   ]
  },
  {
   "cell_type": "markdown",
   "metadata": {},
   "source": [
    "不太確定為什麼課本不給一下 core 的 profile ，\n",
    "但是老闕上課好像有給。\n",
    "\n",
    "$$\n",
    "\\frac{P_c}{T_c^{2.5}} \\propto M^{-0.5} R^{1.5}\n",
    "$$"
   ]
  },
  {
   "cell_type": "code",
   "execution_count": 26,
   "metadata": {},
   "outputs": [
    {
     "data": {
      "image/png": "[encoded data removed]",
      "text/latex": [
       "$$\\frac{R^{1.5}}{M^{0.5}} T_{c}^{4.44089209850063 \\cdot 10^{-16}} = \\frac{2 T_{eff}^{- b} g}{3 T_{eff}^{2.5} \\kappa_{0}} \\left(\\frac{R^{1.5} T_{eff}^{\\frac{5}{2}}}{M^{0.5}}\\right)^{- a} \\left(a + 1\\right)$$"
      ],
      "text/plain": [
       "                                                                              \n",
       "                                            -2.5      -b   ⎛ -0.5  1.5      5/\n",
       " -0.5  1.5    4.44089209850063e-16   2⋅T_eff    ⋅T_eff  ⋅g⋅⎝M    ⋅R   ⋅T_eff  \n",
       "M    ⋅R   ⋅T_c                     = ─────────────────────────────────────────\n",
       "                                                              3⋅κ₀            \n",
       "\n",
       "  -a        \n",
       "2⎞          \n",
       " ⎠  ⋅(a + 1)\n",
       "────────────\n",
       "            "
      ]
     },
     "execution_count": 26,
     "metadata": {},
     "output_type": "execute_result"
    }
   ],
   "source": [
    "# substitute core profile with above relation provided by 老闕\n",
    "M, R = sp.symbols('M R')\n",
    "eqHighSurface = eqHighSurface.subs(Pc, M**-0.5 * R**1.5 * Tc**2.5)\n",
    "eqHighSurface"
   ]
  },
  {
   "cell_type": "code",
   "execution_count": 27,
   "metadata": {},
   "outputs": [
    {
     "data": {
      "image/png": "[encoded data removed]",
      "text/latex": [
       "$$\\frac{R^{1.5}}{M^{0.5}} = \\frac{2 T_{eff}^{- b} g}{3 T_{eff}^{2.5} \\kappa_{0}} \\left(\\frac{R^{1.5} T_{eff}^{\\frac{5}{2}}}{M^{0.5}}\\right)^{- a} \\left(a + 1\\right)$$"
      ],
      "text/plain": [
       "                                                        -a        \n",
       "                    -2.5      -b   ⎛ -0.5  1.5      5/2⎞          \n",
       " -0.5  1.5   2⋅T_eff    ⋅T_eff  ⋅g⋅⎝M    ⋅R   ⋅T_eff   ⎠  ⋅(a + 1)\n",
       "M    ⋅R    = ─────────────────────────────────────────────────────\n",
       "                                      3⋅κ₀                        "
      ]
     },
     "execution_count": 27,
     "metadata": {},
     "output_type": "execute_result"
    }
   ],
   "source": [
    "# it seems Tc should have zero exponent, \n",
    "eqHighSurface = eqHighSurface.subs(Tc, 1)\n",
    "eqHighSurface"
   ]
  },
  {
   "cell_type": "code",
   "execution_count": 28,
   "metadata": {},
   "outputs": [
    {
     "data": {
      "image/png": "[encoded data removed]",
      "text/latex": [
       "$$\\frac{R^{1.5}}{M^{0.5}} = \\frac{2 M T_{eff}^{- b} \\left(\\frac{R^{1.5} T_{eff}^{\\frac{5}{2}}}{M^{0.5}}\\right)^{- a}}{3 R^{2} T_{eff}^{2.5} \\kappa_{0}} \\left(a + 1\\right)$$"
      ],
      "text/plain": [
       "                                                        -a        \n",
       "                      -2.5      -b ⎛ -0.5  1.5      5/2⎞          \n",
       " -0.5  1.5   2⋅M⋅T_eff    ⋅T_eff  ⋅⎝M    ⋅R   ⋅T_eff   ⎠  ⋅(a + 1)\n",
       "M    ⋅R    = ─────────────────────────────────────────────────────\n",
       "                                       2                          \n",
       "                                    3⋅R ⋅κ₀                       "
      ]
     },
     "execution_count": 28,
     "metadata": {},
     "output_type": "execute_result"
    }
   ],
   "source": [
    "## subsitute for g = M / R^2\n",
    "g = sp.Symbol('g')\n",
    "eqHighSurface = eqHighSurface.subs(g, sp.simplify('M / R^2'))\n",
    "eqHighSurface"
   ]
  },
  {
   "cell_type": "code",
   "execution_count": 29,
   "metadata": {
    "scrolled": true
   },
   "outputs": [
    {
     "data": {
      "image/png": "[encoded data removed]",
      "text/latex": [
       "$$T_{eff} = \\left(\\frac{0.444444444444444}{\\kappa_{0}^{2}} M^{a + 3.0} R^{- 3.0 a - 7.0} \\left(a^{2} + 2.0 a + 1.0\\right)\\right)^{\\frac{1}{5 a + 2 b + 5}}$$"
      ],
      "text/plain": [
       "                                                                           1  \n",
       "                                                                     ─────────\n",
       "                                                                     5⋅a + 2⋅b\n",
       "        ⎛                   a + 3.0  -3.0⋅a - 7.0 ⎛ 2              ⎞⎞         \n",
       "        ⎜0.444444444444444⋅M       ⋅R            ⋅⎝a  + 2.0⋅a + 1.0⎠⎟         \n",
       "T_eff = ⎜───────────────────────────────────────────────────────────⎟         \n",
       "        ⎜                              2                            ⎟         \n",
       "        ⎝                            κ₀                             ⎠         \n",
       "\n",
       "    \n",
       "────\n",
       " + 5\n",
       "    \n",
       "    \n",
       "    \n",
       "    \n",
       "    "
      ]
     },
     "execution_count": 29,
     "metadata": {},
     "output_type": "execute_result"
    }
   ],
   "source": [
    "## solve for T_eff\n",
    "eqHighSurface = sp.Eq(T_eff, sp.solve(eqHighSurface, T_eff)[0])\n",
    "eqHighSurface"
   ]
  },
  {
   "cell_type": "markdown",
   "metadata": {},
   "source": [
    "- Population 1"
   ]
  },
  {
   "cell_type": "code",
   "execution_count": 30,
   "metadata": {},
   "outputs": [
    {
     "data": {
      "image/png": "[encoded data removed]",
      "text/latex": [
       "$$T_{eff} = 436.885257312281 \\left(\\frac{M^{3.7}}{R^{9.1}}\\right)^{0.0523560209424084}$$"
      ],
      "text/plain": [
       "                                     0.0523560209424084\n",
       "                         ⎛ 3.7  -9.1⎞                  \n",
       "T_eff = 436.885257312281⋅⎝M   ⋅R    ⎠                  "
      ]
     },
     "execution_count": 30,
     "metadata": {},
     "output_type": "execute_result"
    }
   ],
   "source": [
    "# Population 1 effective temperature \n",
    "eqHighSurface.subs(\n",
    "    a, 0.7).subs(b, 5.3).subs(kappa_0, 6.9*10**-26)"
   ]
  },
  {
   "cell_type": "markdown",
   "metadata": {},
   "source": [
    "這個結果也太好笑了XD  不知道為什麼程式不把指數項爆開，但是我們可以試著幫他算一下：\n",
    "\n",
    "- exponent of M : 3.7 * 0.0523 = 0.1935, the same as (6.135)\n",
    "- exponent of R : 9.1 * 0.0523 = 0.4759, not the same as (6.135)\n",
    "\n",
    "R 的指數是錯的，有可能老闕給的那條式子是錯的或者我用錯地方，但是 M 的指數是對的"
   ]
  },
  {
   "cell_type": "markdown",
   "metadata": {},
   "source": [
    "- Population 2"
   ]
  },
  {
   "cell_type": "code",
   "execution_count": 31,
   "metadata": {
    "scrolled": true
   },
   "outputs": [
    {
     "data": {
      "image/png": "[encoded data removed]",
      "text/latex": [
       "$$T_{eff} = 848.319829080711 \\left(\\frac{M^{3.6}}{R^{8.8}}\\right)^{0.0373134328358209}$$"
      ],
      "text/plain": [
       "                                     0.0373134328358209\n",
       "                         ⎛ 3.6  -8.8⎞                  \n",
       "T_eff = 848.319829080711⋅⎝M   ⋅R    ⎠                  "
      ]
     },
     "execution_count": 31,
     "metadata": {},
     "output_type": "execute_result"
    }
   ],
   "source": [
    "# Populatoin II effective temperature \n",
    "eqHighSurface.subs(\n",
    "    a, 0.6).subs(b, 9.4).subs(kappa_0, 6.1*10**-40)"
   ]
  },
  {
   "cell_type": "markdown",
   "metadata": {},
   "source": [
    "這次是兩個都錯了。好像不是很確定哪裡算錯了。"
   ]
  },
  {
   "cell_type": "markdown",
   "metadata": {},
   "source": [
    "# Question (2) High Surface Density Part\n"
   ]
  },
  {
   "cell_type": "code",
   "execution_count": 32,
   "metadata": {},
   "outputs": [
    {
     "data": {
      "image/png": "[encoded data removed]",
      "text/latex": [
       "$$L = 4 \\pi R^{2} T_{eff}^{4} \\sigma$$"
      ],
      "text/plain": [
       "         2      4  \n",
       "L = 4⋅π⋅R ⋅T_eff ⋅σ"
      ]
     },
     "execution_count": 32,
     "metadata": {},
     "output_type": "execute_result"
    }
   ],
   "source": [
    "# eq of luminosity\n",
    "eqLHighSurface = sp.Eq(\n",
    "    sp.simplify('L'), sp.simplify('4 * pi * sigma * R^2 * T_eff^4'))\n",
    "eqLHighSurface"
   ]
  },
  {
   "cell_type": "code",
   "execution_count": 33,
   "metadata": {},
   "outputs": [
    {
     "data": {
      "image/png": "[encoded data removed]",
      "text/latex": [
       "$$L = 4 \\pi R^{2} \\sigma \\left(\\frac{0.444444444444444}{\\kappa_{0}^{2}} M^{a + 3.0} R^{- 3.0 a - 7.0} \\left(a^{2} + 2.0 a + 1.0\\right)\\right)^{\\frac{4}{5 a + 2 b + 5}}$$"
      ],
      "text/plain": [
       "                                                                              \n",
       "                                                                          ────\n",
       "                                                                          5⋅a \n",
       "             ⎛                   a + 3.0  -3.0⋅a - 7.0 ⎛ 2              ⎞⎞    \n",
       "         2   ⎜0.444444444444444⋅M       ⋅R            ⋅⎝a  + 2.0⋅a + 1.0⎠⎟    \n",
       "L = 4⋅π⋅R ⋅σ⋅⎜───────────────────────────────────────────────────────────⎟    \n",
       "             ⎜                              2                            ⎟    \n",
       "             ⎝                            κ₀                             ⎠    \n",
       "\n",
       "  4      \n",
       "─────────\n",
       "+ 2⋅b + 5\n",
       "         \n",
       "         \n",
       "         \n",
       "         \n",
       "         "
      ]
     },
     "execution_count": 33,
     "metadata": {},
     "output_type": "execute_result"
    }
   ],
   "source": [
    "eqLHighSurface = eqLHighSurface.subs(T_eff, eqHighSurface.rhs)\n",
    "eqLHighSurface"
   ]
  },
  {
   "cell_type": "markdown",
   "metadata": {},
   "source": [
    "- Population 1"
   ]
  },
  {
   "cell_type": "code",
   "execution_count": 34,
   "metadata": {},
   "outputs": [
    {
     "data": {
      "image/png": "[encoded data removed]",
      "text/latex": [
       "$$L = 145723485400.11 \\pi R^{2} \\sigma \\left(\\frac{M^{3.7}}{R^{9.1}}\\right)^{0.209424083769633}$$"
      ],
      "text/plain": [
       "                                       0.209424083769633\n",
       "                       2   ⎛ 3.7  -9.1⎞                 \n",
       "L = 145723485400.11⋅π⋅R ⋅σ⋅⎝M   ⋅R    ⎠                 "
      ]
     },
     "execution_count": 34,
     "metadata": {},
     "output_type": "execute_result"
    }
   ],
   "source": [
    "# population I luminosity\n",
    "eqLHighSurface.subs(\n",
    "    a, 0.7).subs(b, 5.3).subs(kappa_0, 6.9*10**-26)"
   ]
  },
  {
   "cell_type": "code",
   "execution_count": 35,
   "metadata": {},
   "outputs": [
    {
     "data": {
      "image/png": "[encoded data removed]",
      "text/latex": [
       "$$L = 2071564526447.74 \\pi R^{2} \\sigma \\left(\\frac{M^{3.6}}{R^{8.8}}\\right)^{0.149253731343284}$$"
      ],
      "text/plain": [
       "                                        0.149253731343284\n",
       "                        2   ⎛ 3.6  -8.8⎞                 \n",
       "L = 2071564526447.74⋅π⋅R ⋅σ⋅⎝M   ⋅R    ⎠                 "
      ]
     },
     "execution_count": 35,
     "metadata": {},
     "output_type": "execute_result"
    }
   ],
   "source": [
    "# population II luminosity\n",
    "eqLHighSurface.subs(\n",
    "    a, 0.6).subs(b, 9.4).subs(kappa_0, 6.1*10**-40)"
   ]
  },
  {
   "cell_type": "markdown",
   "metadata": {},
   "source": [
    "# Question (1) Ionization Zones\n",
    "課本這邊寫得看不太懂，不過大概是叫我們硬解吧。\n",
    "\n",
    "Use the same adiabatic condition.  "
   ]
  },
  {
   "cell_type": "code",
   "execution_count": 36,
   "metadata": {},
   "outputs": [
    {
     "data": {
      "image/png": "[encoded data removed]",
      "text/latex": [
       "$$P = K T^{\\frac{\\gamma}{\\gamma - 1}}$$"
      ],
      "text/plain": [
       "         γ  \n",
       "       ─────\n",
       "       γ - 1\n",
       "P = K⋅T     "
      ]
     },
     "execution_count": 36,
     "metadata": {},
     "output_type": "execute_result"
    }
   ],
   "source": [
    "eqAdiabatic"
   ]
  },
  {
   "cell_type": "markdown",
   "metadata": {},
   "source": [
    "The textbook says that the ionization zone is convective and the entropy across it is constant. So that $S(x=1) - S(x=0) = 0$, where x denotes the fraction of hydrogen ionized.\n",
    "\n",
    "Also, argued in the textbook, \n",
    "- x = 1 : the center of the star\n",
    "- x = 0 : at the base of the photosphere\n",
    "\n",
    "Yeah ... so, basically we would have \n",
    "\n",
    "$$\n",
    "S(x=1, P=P_c) = S(x=0, P=P_{ph})\n",
    "$$"
   ]
  },
  {
   "cell_type": "code",
   "execution_count": 37,
   "metadata": {},
   "outputs": [
    {
     "data": {
      "image/png": "[encoded data removed]",
      "text/latex": [
       "$$S = \\frac{X}{2 P T m_{H}} \\left(P T k \\left(2 \\delta \\log^{\\frac{3}{2}}{\\left (\\frac{2 \\pi}{h^{2}} m_{He} \\right )} + 5 \\delta + 2 x \\log^{\\frac{3}{2}}{\\left (\\frac{2 \\pi}{h^{2}} m_{e} \\right )} + 5 x + 2 \\log^{\\frac{3}{2}}{\\left (\\frac{2 \\pi}{h^{2}} m_{H} \\right )} + 5\\right) + 2 P \\chi + 2 T k \\left(\\delta + x + 1\\right)^{2} \\log^{\\frac{5}{2}}{\\left (T k \\right )}\\right)$$"
      ],
      "text/plain": [
       "      ⎛      ⎛       3/2⎛2⋅π⋅m_He⎞                3/2⎛2⋅π⋅mₑ⎞              3/2\n",
       "    X⋅⎜P⋅T⋅k⋅⎜2⋅δ⋅log   ⎜────────⎟ + 5⋅δ + 2⋅x⋅log   ⎜──────⎟ + 5⋅x + 2⋅log   \n",
       "      ⎜      ⎜          ⎜    2   ⎟                   ⎜   2  ⎟                 \n",
       "      ⎝      ⎝          ⎝   h    ⎠                   ⎝  h   ⎠                 \n",
       "S = ──────────────────────────────────────────────────────────────────────────\n",
       "                                                                2⋅P⋅T⋅m_H     \n",
       "\n",
       "⎛2⋅π⋅m_H⎞    ⎞                            2    5/2     ⎞\n",
       "⎜───────⎟ + 5⎟ + 2⋅P⋅χ + 2⋅T⋅k⋅(δ + x + 1) ⋅log   (T⋅k)⎟\n",
       "⎜    2  ⎟    ⎟                                         ⎟\n",
       "⎝   h   ⎠    ⎠                                         ⎠\n",
       "────────────────────────────────────────────────────────\n",
       "                                                        "
      ]
     },
     "execution_count": 37,
     "metadata": {},
     "output_type": "execute_result"
    }
   ],
   "source": [
    "# entropy per unit mass\n",
    "exprEntropy = sp.simplify(\n",
    "    '''\n",
    "    X * k / m_H * \n",
    "    (5 / 2 * (1 + x + delta) + \n",
    "    chi / k / T + \n",
    "    ln(2 * pi * m_H / h^2)^(3/2) + \n",
    "    delta * ln(2 * pi * m_He / h^2)^(3/2) + \n",
    "    x * ln(2 * pi * m_e / h^2)^(3/2) + \n",
    "    (1 + x + delta) * ln(k * T)^(5/2) * (1 + x + delta) / P)\n",
    "    ''')\n",
    "S = sp.Symbol('S')\n",
    "epEntropy = sp.Eq(S, exprEntropy)\n",
    "epEntropy\n",
    "# lol this is ugly"
   ]
  },
  {
   "cell_type": "markdown",
   "metadata": {},
   "source": [
    "Get the relation here,  \n",
    "$$\n",
    "S(x=1, P=P_c) = S(x=0, P=P_{ph})\n",
    "$$"
   ]
  },
  {
   "cell_type": "code",
   "execution_count": 38,
   "metadata": {},
   "outputs": [
    {
     "data": {
      "image/png": "[encoded data removed]",
      "text/latex": [
       "$$\\frac{X}{2 P_{c} T_{c} m_{H}} \\left(P_{c} T_{c} k \\left(2 \\delta \\log^{\\frac{3}{2}}{\\left (\\frac{2 \\pi}{h^{2}} m_{He} \\right )} + 5 \\delta + 2 \\log^{\\frac{3}{2}}{\\left (\\frac{2 \\pi}{h^{2}} m_{H} \\right )} + 2 \\log^{\\frac{3}{2}}{\\left (\\frac{2 \\pi}{h^{2}} m_{e} \\right )} + 10\\right) + 2 P_{c} \\chi + 2 T_{c} k \\left(\\delta + 2\\right)^{2} \\log^{\\frac{5}{2}}{\\left (T_{c} k \\right )}\\right) = \\frac{X}{2 P_{ph} T_{eff} m_{H}} \\left(P_{ph} T_{eff} k \\left(2 \\delta \\log^{\\frac{3}{2}}{\\left (\\frac{2 \\pi}{h^{2}} m_{He} \\right )} + 5 \\delta + 2 \\log^{\\frac{3}{2}}{\\left (\\frac{2 \\pi}{h^{2}} m_{H} \\right )} + 5\\right) + 2 P_{ph} \\chi + 2 T_{eff} k \\left(\\delta + 1\\right)^{2} \\log^{\\frac{5}{2}}{\\left (T_{eff} k \\right )}\\right)$$"
      ],
      "text/plain": [
       "  ⎛          ⎛       3/2⎛2⋅π⋅m_He⎞              3/2⎛2⋅π⋅m_H⎞        3/2⎛2⋅π⋅mₑ\n",
       "X⋅⎜P_c⋅T_c⋅k⋅⎜2⋅δ⋅log   ⎜────────⎟ + 5⋅δ + 2⋅log   ⎜───────⎟ + 2⋅log   ⎜──────\n",
       "  ⎜          ⎜          ⎜    2   ⎟                 ⎜    2  ⎟           ⎜   2  \n",
       "  ⎝          ⎝          ⎝   h    ⎠                 ⎝   h   ⎠           ⎝  h   \n",
       "──────────────────────────────────────────────────────────────────────────────\n",
       "                                                          2⋅P_c⋅T_c⋅m_H       \n",
       "\n",
       "⎞     ⎞                            2    5/2       ⎞     ⎛            ⎛       3\n",
       "⎟ + 10⎟ + 2⋅P_c⋅χ + 2⋅T_c⋅k⋅(δ + 2) ⋅log   (T_c⋅k)⎟   X⋅⎜Pₚₕ⋅T_eff⋅k⋅⎜2⋅δ⋅log \n",
       "⎟     ⎟                                           ⎟     ⎜            ⎜        \n",
       "⎠     ⎠                                           ⎠     ⎝            ⎝        \n",
       "─────────────────────────────────────────────────── = ────────────────────────\n",
       "                                                                              \n",
       "\n",
       "/2⎛2⋅π⋅m_He⎞              3/2⎛2⋅π⋅m_H⎞    ⎞                              2    \n",
       "  ⎜────────⎟ + 5⋅δ + 2⋅log   ⎜───────⎟ + 5⎟ + 2⋅Pₚₕ⋅χ + 2⋅T_eff⋅k⋅(δ + 1) ⋅log\n",
       "  ⎜    2   ⎟                 ⎜    2  ⎟    ⎟                                   \n",
       "  ⎝   h    ⎠                 ⎝   h   ⎠    ⎠                                   \n",
       "──────────────────────────────────────────────────────────────────────────────\n",
       "                          2⋅Pₚₕ⋅T_eff⋅m_H                                     \n",
       "\n",
       "5/2         ⎞\n",
       "   (T_eff⋅k)⎟\n",
       "            ⎟\n",
       "            ⎠\n",
       "─────────────\n",
       "             "
      ]
     },
     "execution_count": 38,
     "metadata": {},
     "output_type": "execute_result"
    }
   ],
   "source": [
    "# S(x=1, P=P_c) = S(x=0, P=P_{ph})\n",
    "x, delta = sp.symbols('x delta')\n",
    "eqBoundary = sp.Eq(epEntropy.subs(x, 1).subs(P, Pc).subs(T, Tc).rhs, \n",
    "    epEntropy.subs(x, 0).subs(P, P_ph).subs(T, T_eff).rhs)\n",
    "\n",
    "eqBoundary\n",
    "# lol 超級複雜，用手算會瘋掉"
   ]
  },
  {
   "cell_type": "code",
   "execution_count": 39,
   "metadata": {
    "scrolled": true
   },
   "outputs": [
    {
     "data": {
      "image/png": "[encoded data removed]",
      "text/latex": [
       "$$\\frac{X}{2 P_{c} T_{c} m_{H}} \\left(P_{c} T_{c} k \\left(2 \\log^{\\frac{3}{2}}{\\left (\\frac{2 \\pi}{h^{2}} m_{H} \\right )} + 2 \\log^{\\frac{3}{2}}{\\left (\\frac{2 \\pi}{h^{2}} m_{e} \\right )} + 10 + \\frac{Y}{2 X} \\log^{\\frac{3}{2}}{\\left (\\frac{2 \\pi}{h^{2}} m_{He} \\right )} + \\frac{5 Y}{4 X}\\right) + 2 P_{c} \\chi + 2 T_{c} k \\left(2 + \\frac{Y}{4 X}\\right)^{2} \\log^{\\frac{5}{2}}{\\left (T_{c} k \\right )}\\right) = \\frac{X}{2 P_{ph} T_{eff} m_{H}} \\left(P_{ph} T_{eff} k \\left(2 \\log^{\\frac{3}{2}}{\\left (\\frac{2 \\pi}{h^{2}} m_{H} \\right )} + 5 + \\frac{Y}{2 X} \\log^{\\frac{3}{2}}{\\left (\\frac{2 \\pi}{h^{2}} m_{He} \\right )} + \\frac{5 Y}{4 X}\\right) + 2 P_{ph} \\chi + 2 T_{eff} k \\left(1 + \\frac{Y}{4 X}\\right)^{2} \\log^{\\frac{5}{2}}{\\left (T_{eff} k \\right )}\\right)$$"
      ],
      "text/plain": [
       "  ⎛          ⎛                                                 3/2⎛2⋅π⋅m_He⎞  \n",
       "  ⎜          ⎜                                            Y⋅log   ⎜────────⎟  \n",
       "  ⎜          ⎜                                                    ⎜    2   ⎟  \n",
       "  ⎜          ⎜     3/2⎛2⋅π⋅m_H⎞        3/2⎛2⋅π⋅mₑ⎞                ⎝   h    ⎠  \n",
       "X⋅⎜P_c⋅T_c⋅k⋅⎜2⋅log   ⎜───────⎟ + 2⋅log   ⎜──────⎟ + 10 + ────────────────── +\n",
       "  ⎜          ⎜        ⎜    2  ⎟           ⎜   2  ⎟               2⋅X          \n",
       "  ⎝          ⎝        ⎝   h   ⎠           ⎝  h   ⎠                            \n",
       "──────────────────────────────────────────────────────────────────────────────\n",
       "                                                          2⋅P_c⋅T_c⋅m_H       \n",
       "\n",
       "    ⎞                                             ⎞     ⎛            ⎛        \n",
       "    ⎟                                             ⎟     ⎜            ⎜        \n",
       "    ⎟                              2              ⎟     ⎜            ⎜        \n",
       " 5⋅Y⎟                     ⎛     Y ⎞     5/2       ⎟     ⎜            ⎜     3/2\n",
       " ───⎟ + 2⋅P_c⋅χ + 2⋅T_c⋅k⋅⎜2 + ───⎟ ⋅log   (T_c⋅k)⎟   X⋅⎜Pₚₕ⋅T_eff⋅k⋅⎜2⋅log   \n",
       " 4⋅X⎟                     ⎝    4⋅X⎠               ⎟     ⎜            ⎜        \n",
       "    ⎠                                             ⎠     ⎝            ⎝        \n",
       "─────────────────────────────────────────────────── = ────────────────────────\n",
       "                                                                              \n",
       "\n",
       "                     3/2⎛2⋅π⋅m_He⎞      ⎞                                     \n",
       "                Y⋅log   ⎜────────⎟      ⎟                                     \n",
       "                        ⎜    2   ⎟      ⎟                                2    \n",
       "⎛2⋅π⋅m_H⎞               ⎝   h    ⎠   5⋅Y⎟                       ⎛     Y ⎞     \n",
       "⎜───────⎟ + 5 + ────────────────── + ───⎟ + 2⋅Pₚₕ⋅χ + 2⋅T_eff⋅k⋅⎜1 + ───⎟ ⋅log\n",
       "⎜    2  ⎟              2⋅X           4⋅X⎟                       ⎝    4⋅X⎠     \n",
       "⎝   h   ⎠                               ⎠                                     \n",
       "──────────────────────────────────────────────────────────────────────────────\n",
       "                          2⋅Pₚₕ⋅T_eff⋅m_H                                     \n",
       "\n",
       "            ⎞\n",
       "            ⎟\n",
       "            ⎟\n",
       "5/2         ⎟\n",
       "   (T_eff⋅k)⎟\n",
       "            ⎟\n",
       "            ⎠\n",
       "─────────────\n",
       "             "
      ]
     },
     "execution_count": 39,
     "metadata": {},
     "output_type": "execute_result"
    }
   ],
   "source": [
    "# substitute delta = Y / (4 X)\n",
    "eqBoundary = eqBoundary.subs(delta, sp.simplify('Y / (4 * X)'))\n",
    "eqBoundary"
   ]
  },
  {
   "cell_type": "markdown",
   "metadata": {},
   "source": [
    "And then, substitute with $$\n",
    "\\frac{P_c}{T_c^{2.5}} \\propto M^{-0.5} R^{1.5}\n",
    "$$"
   ]
  },
  {
   "cell_type": "code",
   "execution_count": 40,
   "metadata": {},
   "outputs": [
    {
     "data": {
      "image/png": "[encoded data removed]",
      "text/latex": [
       "$$\\frac{M^{0.5} X}{2 R^{1.5} T_{c}^{3.5} m_{H}} \\left(\\frac{2 \\chi}{M^{0.5}} R^{1.5} T_{c}^{2.5} + \\frac{R^{1.5} k}{M^{0.5}} T_{c}^{3.5} \\left(2 \\log^{\\frac{3}{2}}{\\left (\\frac{2 \\pi}{h^{2}} m_{H} \\right )} + 2 \\log^{\\frac{3}{2}}{\\left (\\frac{2 \\pi}{h^{2}} m_{e} \\right )} + 10 + \\frac{Y}{2 X} \\log^{\\frac{3}{2}}{\\left (\\frac{2 \\pi}{h^{2}} m_{He} \\right )} + \\frac{5 Y}{4 X}\\right) + 2 T_{c} k \\left(2 + \\frac{Y}{4 X}\\right)^{2} \\log^{\\frac{5}{2}}{\\left (T_{c} k \\right )}\\right) = \\frac{X}{2 P_{ph} T_{eff} m_{H}} \\left(P_{ph} T_{eff} k \\left(2 \\log^{\\frac{3}{2}}{\\left (\\frac{2 \\pi}{h^{2}} m_{H} \\right )} + 5 + \\frac{Y}{2 X} \\log^{\\frac{3}{2}}{\\left (\\frac{2 \\pi}{h^{2}} m_{He} \\right )} + \\frac{5 Y}{4 X}\\right) + 2 P_{ph} \\chi + 2 T_{eff} k \\left(1 + \\frac{Y}{4 X}\\right)^{2} \\log^{\\frac{5}{2}}{\\left (T_{eff} k \\right )}\\right)$$"
      ],
      "text/plain": [
       "                     ⎛                                            ⎛           \n",
       "                     ⎜                                            ⎜           \n",
       "                     ⎜                                            ⎜           \n",
       " 0.5  -1.5    -3.5   ⎜   -0.5  1.5    2.5      -0.5  1.5    3.5   ⎜     3/2⎛2⋅\n",
       "M   ⋅R    ⋅T_c    ⋅X⋅⎜2⋅M    ⋅R   ⋅T_c   ⋅χ + M    ⋅R   ⋅T_c   ⋅k⋅⎜2⋅log   ⎜──\n",
       "                     ⎜                                            ⎜        ⎜  \n",
       "                     ⎝                                            ⎝        ⎝  \n",
       "──────────────────────────────────────────────────────────────────────────────\n",
       "                                                                              \n",
       "\n",
       "                                      3/2⎛2⋅π⋅m_He⎞      ⎞                    \n",
       "                                 Y⋅log   ⎜────────⎟      ⎟                    \n",
       "                                         ⎜    2   ⎟      ⎟                    \n",
       "π⋅m_H⎞        3/2⎛2⋅π⋅mₑ⎞                ⎝   h    ⎠   5⋅Y⎟           ⎛     Y ⎞\n",
       "─────⎟ + 2⋅log   ⎜──────⎟ + 10 + ────────────────── + ───⎟ + 2⋅T_c⋅k⋅⎜2 + ───⎟\n",
       "  2  ⎟           ⎜   2  ⎟               2⋅X           4⋅X⎟           ⎝    4⋅X⎠\n",
       " h   ⎠           ⎝  h   ⎠                                ⎠                    \n",
       "──────────────────────────────────────────────────────────────────────────────\n",
       "     2⋅m_H                                                                    \n",
       "\n",
       "               ⎞     ⎛            ⎛                             3/2⎛2⋅π⋅m_He⎞ \n",
       "               ⎟     ⎜            ⎜                        Y⋅log   ⎜────────⎟ \n",
       "2              ⎟     ⎜            ⎜                                ⎜    2   ⎟ \n",
       "     5/2       ⎟     ⎜            ⎜     3/2⎛2⋅π⋅m_H⎞               ⎝   h    ⎠ \n",
       " ⋅log   (T_c⋅k)⎟   X⋅⎜Pₚₕ⋅T_eff⋅k⋅⎜2⋅log   ⎜───────⎟ + 5 + ────────────────── \n",
       "               ⎟     ⎜            ⎜        ⎜    2  ⎟              2⋅X         \n",
       "               ⎠     ⎝            ⎝        ⎝   h   ⎠                          \n",
       "──────────────── = ───────────────────────────────────────────────────────────\n",
       "                                                                     2⋅Pₚₕ⋅T_e\n",
       "\n",
       "     ⎞                                                 ⎞\n",
       "     ⎟                                                 ⎟\n",
       "     ⎟                                2                ⎟\n",
       "  5⋅Y⎟                       ⎛     Y ⎞     5/2         ⎟\n",
       "+ ───⎟ + 2⋅Pₚₕ⋅χ + 2⋅T_eff⋅k⋅⎜1 + ───⎟ ⋅log   (T_eff⋅k)⎟\n",
       "  4⋅X⎟                       ⎝    4⋅X⎠                 ⎟\n",
       "     ⎠                                                 ⎠\n",
       "────────────────────────────────────────────────────────\n",
       "ff⋅m_H                                                  "
      ]
     },
     "execution_count": 40,
     "metadata": {},
     "output_type": "execute_result"
    }
   ],
   "source": [
    "eqBoundary = eqBoundary.subs(Pc, M**-0.5 * R**1.5 * Tc**2.5)\n",
    "eqBoundary"
   ]
  },
  {
   "cell_type": "markdown",
   "metadata": {},
   "source": [
    "天啊，感覺 $T_c$ 是消不掉的。用 `simplify` 來試試看好了。\n",
    "\n",
    "註： `simplify` 是 `sympy` 用來簡化方程式的懶人指令，他自動會幫你跑他自己覺得比較簡化的結果。"
   ]
  },
  {
   "cell_type": "code",
   "execution_count": 41,
   "metadata": {},
   "outputs": [
    {
     "data": {
      "image/png": "[encoded data removed]",
      "text/latex": [
       "$$\\frac{1}{P_{ph} T_{eff} X m_{H}} \\left(\\frac{P_{ph} T_{eff}}{8} X k \\left(4 X \\left(2 \\log^{\\frac{3}{2}}{\\left (\\frac{2 \\pi}{h^{2}} m_{H} \\right )} + 5\\right) + 2 Y \\log^{\\frac{3}{2}}{\\left (\\frac{2 \\pi}{h^{2}} m_{He} \\right )} + 5 Y\\right) + P_{ph} X^{2} \\chi + \\frac{T_{eff} k}{16} \\left(4 X + Y\\right)^{2} \\log^{\\frac{5}{2}}{\\left (T_{eff} k \\right )}\\right) = \\frac{M^{0.5} k \\left(8 X + Y\\right)^{2}}{16 R^{1.5} T_{c}^{2.5} X m_{H}} \\log^{\\frac{5}{2}}{\\left (T_{c} k \\right )} + \\frac{X \\chi}{T_{c}^{1.0} m_{H}} + \\frac{X k}{m_{H}} \\log^{\\frac{3}{2}}{\\left (\\frac{2 \\pi}{h^{2}} m_{H} \\right )} + \\frac{X k}{m_{H}} \\log^{\\frac{3}{2}}{\\left (\\frac{2 \\pi}{h^{2}} m_{e} \\right )} + \\frac{5 X}{m_{H}} k + \\frac{Y k}{4 m_{H}} \\log^{\\frac{3}{2}}{\\left (\\frac{2 \\pi}{h^{2}} m_{He} \\right )} + \\frac{5 Y k}{8 m_{H}}$$"
      ],
      "text/plain": [
       "              ⎛    ⎛     3/2⎛2⋅π⋅m_H⎞    ⎞          3/2⎛2⋅π⋅m_He⎞      ⎞      \n",
       "Pₚₕ⋅T_eff⋅X⋅k⋅⎜4⋅X⋅⎜2⋅log   ⎜───────⎟ + 5⎟ + 2⋅Y⋅log   ⎜────────⎟ + 5⋅Y⎟      \n",
       "              ⎜    ⎜        ⎜    2  ⎟    ⎟             ⎜    2   ⎟      ⎟      \n",
       "              ⎝    ⎝        ⎝   h   ⎠    ⎠             ⎝   h    ⎠      ⎠      \n",
       "──────────────────────────────────────────────────────────────────────── + Pₚₕ\n",
       "                                   8                                          \n",
       "──────────────────────────────────────────────────────────────────────────────\n",
       "                                                    Pₚₕ⋅T_eff⋅X⋅m_H           \n",
       "\n",
       "                                                                              \n",
       "                                                                              \n",
       "                         2    5/2                                             \n",
       "  2     T_eff⋅k⋅(4⋅X + Y) ⋅log   (T_eff⋅k)                                    \n",
       "⋅X ⋅χ + ──────────────────────────────────    0.5  -1.5    -2.5            2  \n",
       "                        16                   M   ⋅R    ⋅T_c    ⋅k⋅(8⋅X + Y) ⋅l\n",
       "────────────────────────────────────────── = ─────────────────────────────────\n",
       "                                                                16⋅X⋅m_H      \n",
       "\n",
       "                                                                              \n",
       "                                                                              \n",
       "                                    3/2⎛2⋅π⋅m_H⎞          3/2⎛2⋅π⋅mₑ⎞         \n",
       "                             X⋅k⋅log   ⎜───────⎟   X⋅k⋅log   ⎜──────⎟         \n",
       "  5/2             -1.0                 ⎜    2  ⎟             ⎜   2  ⎟         \n",
       "og   (T_c⋅k)   T_c    ⋅X⋅χ             ⎝   h   ⎠             ⎝  h   ⎠   5⋅X⋅k \n",
       "──────────── + ─────────── + ─────────────────── + ────────────────── + ───── \n",
       "                   m_H               m_H                  m_H            m_H  \n",
       "\n",
       "                              \n",
       "                              \n",
       "         3/2⎛2⋅π⋅m_He⎞        \n",
       "  Y⋅k⋅log   ⎜────────⎟        \n",
       "            ⎜    2   ⎟        \n",
       "            ⎝   h    ⎠   5⋅Y⋅k\n",
       "+ ──────────────────── + ─────\n",
       "         4⋅m_H           8⋅m_H"
      ]
     },
     "execution_count": 41,
     "metadata": {},
     "output_type": "execute_result"
    }
   ],
   "source": [
    "eqBoundary = sp.simplify(eqBoundary)\n",
    "eqBoundary"
   ]
  },
  {
   "cell_type": "markdown",
   "metadata": {},
   "source": [
    "都做到這裡了也只能硬著頭皮做下去了：\n",
    "\n",
    "- 用 (6.121) 替代掉 $P_{ph}$\n",
    "- 替代掉 $\\kappa$\n",
    "- 再用 adiabatic equation 替代掉 多餘的 $P_{ph}$，留下$T_{eff}$ 可解"
   ]
  },
  {
   "cell_type": "code",
   "execution_count": 42,
   "metadata": {
    "scrolled": true
   },
   "outputs": [
    {
     "data": {
      "image/png": "[encoded data removed]",
      "text/latex": [
       "$$\\frac{3 \\kappa}{2 T_{eff} X g m_{H} \\left(a + 1\\right)} \\left(\\frac{T_{eff} X g k}{12 \\kappa} \\left(a + 1\\right) \\left(4 X \\left(2 \\log^{\\frac{3}{2}}{\\left (\\frac{2 \\pi}{h^{2}} m_{H} \\right )} + 5\\right) + 2 Y \\log^{\\frac{3}{2}}{\\left (\\frac{2 \\pi}{h^{2}} m_{He} \\right )} + 5 Y\\right) + \\frac{T_{eff} k}{16} \\left(4 X + Y\\right)^{2} \\log^{\\frac{5}{2}}{\\left (T_{eff} k \\right )} + \\frac{2 X^{2} \\chi g}{3 \\kappa} \\left(a + 1\\right)\\right) = \\frac{M^{0.5} k \\left(8 X + Y\\right)^{2}}{16 R^{1.5} T_{c}^{2.5} X m_{H}} \\log^{\\frac{5}{2}}{\\left (T_{c} k \\right )} + \\frac{X \\chi}{T_{c}^{1.0} m_{H}} + \\frac{X k}{m_{H}} \\log^{\\frac{3}{2}}{\\left (\\frac{2 \\pi}{h^{2}} m_{H} \\right )} + \\frac{X k}{m_{H}} \\log^{\\frac{3}{2}}{\\left (\\frac{2 \\pi}{h^{2}} m_{e} \\right )} + \\frac{5 X}{m_{H}} k + \\frac{Y k}{4 m_{H}} \\log^{\\frac{3}{2}}{\\left (\\frac{2 \\pi}{h^{2}} m_{He} \\right )} + \\frac{5 Y k}{8 m_{H}}$$"
      ],
      "text/plain": [
       "    ⎛                    ⎛    ⎛     3/2⎛2⋅π⋅m_H⎞    ⎞          3/2⎛2⋅π⋅m_He⎞  \n",
       "    ⎜T_eff⋅X⋅g⋅k⋅(a + 1)⋅⎜4⋅X⋅⎜2⋅log   ⎜───────⎟ + 5⎟ + 2⋅Y⋅log   ⎜────────⎟ +\n",
       "    ⎜                    ⎜    ⎜        ⎜    2  ⎟    ⎟             ⎜    2   ⎟  \n",
       "    ⎜                    ⎝    ⎝        ⎝   h   ⎠    ⎠             ⎝   h    ⎠  \n",
       "3⋅κ⋅⎜─────────────────────────────────────────────────────────────────────────\n",
       "    ⎝                                     12⋅κ                                \n",
       "──────────────────────────────────────────────────────────────────────────────\n",
       "                                                          2⋅T_eff⋅X⋅g⋅m_H⋅(a +\n",
       "\n",
       "    ⎞                                                        ⎞                \n",
       " 5⋅Y⎟                                                        ⎟                \n",
       "    ⎟                    2    5/2               2            ⎟                \n",
       "    ⎠   T_eff⋅k⋅(4⋅X + Y) ⋅log   (T_eff⋅k)   2⋅X ⋅χ⋅g⋅(a + 1)⎟                \n",
       "───── + ────────────────────────────────── + ────────────────⎟    0.5  -1.5   \n",
       "                        16                         3⋅κ       ⎠   M   ⋅R    ⋅T_\n",
       "────────────────────────────────────────────────────────────── = ─────────────\n",
       " 1)                                                                           \n",
       "\n",
       "                                                                              \n",
       "                                                                              \n",
       "                                                        3/2⎛2⋅π⋅m_H⎞          \n",
       "                                                 X⋅k⋅log   ⎜───────⎟   X⋅k⋅log\n",
       " -2.5            2    5/2             -1.0                 ⎜    2  ⎟          \n",
       "c    ⋅k⋅(8⋅X + Y) ⋅log   (T_c⋅k)   T_c    ⋅X⋅χ             ⎝   h   ⎠          \n",
       "──────────────────────────────── + ─────────── + ─────────────────── + ───────\n",
       "      16⋅X⋅m_H                         m_H               m_H                  \n",
       "\n",
       "                                                  \n",
       "                                                  \n",
       "3/2⎛2⋅π⋅mₑ⎞                  3/2⎛2⋅π⋅m_He⎞        \n",
       "   ⎜──────⎟           Y⋅k⋅log   ⎜────────⎟        \n",
       "   ⎜   2  ⎟                     ⎜    2   ⎟        \n",
       "   ⎝  h   ⎠   5⋅X⋅k             ⎝   h    ⎠   5⋅Y⋅k\n",
       "─────────── + ───── + ──────────────────── + ─────\n",
       "m_H            m_H           4⋅m_H           8⋅m_H"
      ]
     },
     "execution_count": 42,
     "metadata": {},
     "output_type": "execute_result"
    }
   ],
   "source": [
    "# 用 (6.121)\n",
    "eqBoundary = eqBoundary.subs(P_ph, eqPh.rhs)\n",
    "eqBoundary"
   ]
  },
  {
   "cell_type": "code",
   "execution_count": 43,
   "metadata": {
    "scrolled": false
   },
   "outputs": [
    {
     "data": {
      "image/png": "[encoded data removed]",
      "text/latex": [
       "$$\\frac{3 P_{ph}^{a} T_{eff}^{b} \\kappa_{0}}{2 T_{eff} X g m_{H} \\left(a + 1\\right)} \\left(\\frac{T_{eff} k}{16} \\left(4 X + Y\\right)^{2} \\log^{\\frac{5}{2}}{\\left (T_{eff} k \\right )} + \\frac{T_{eff} X g k}{12 \\kappa_{0}} P_{ph}^{- a} T_{eff}^{- b} \\left(a + 1\\right) \\left(4 X \\left(2 \\log^{\\frac{3}{2}}{\\left (\\frac{2 \\pi}{h^{2}} m_{H} \\right )} + 5\\right) + 2 Y \\log^{\\frac{3}{2}}{\\left (\\frac{2 \\pi}{h^{2}} m_{He} \\right )} + 5 Y\\right) + \\frac{2 X^{2} \\chi g}{3 \\kappa_{0}} P_{ph}^{- a} T_{eff}^{- b} \\left(a + 1\\right)\\right) = \\frac{M^{0.5} k \\left(8 X + Y\\right)^{2}}{16 R^{1.5} T_{c}^{2.5} X m_{H}} \\log^{\\frac{5}{2}}{\\left (T_{c} k \\right )} + \\frac{X \\chi}{T_{c}^{1.0} m_{H}} + \\frac{X k}{m_{H}} \\log^{\\frac{3}{2}}{\\left (\\frac{2 \\pi}{h^{2}} m_{H} \\right )} + \\frac{X k}{m_{H}} \\log^{\\frac{3}{2}}{\\left (\\frac{2 \\pi}{h^{2}} m_{e} \\right )} + \\frac{5 X}{m_{H}} k + \\frac{Y k}{4 m_{H}} \\log^{\\frac{3}{2}}{\\left (\\frac{2 \\pi}{h^{2}} m_{He} \\right )} + \\frac{5 Y k}{8 m_{H}}$$"
      ],
      "text/plain": [
       "                 ⎛                                        -a            -b    \n",
       "                 ⎜                                     Pₚₕ  ⋅T_eff⋅T_eff  ⋅X⋅g\n",
       "                 ⎜                 2    5/2                                   \n",
       "     a      b    ⎜T_eff⋅k⋅(4⋅X + Y) ⋅log   (T_eff⋅k)                          \n",
       "3⋅Pₚₕ ⋅T_eff ⋅κ₀⋅⎜────────────────────────────────── + ───────────────────────\n",
       "                 ⎝                16                                          \n",
       "──────────────────────────────────────────────────────────────────────────────\n",
       "                                                                              \n",
       "\n",
       "           ⎛    ⎛     3/2⎛2⋅π⋅m_H⎞    ⎞          3/2⎛2⋅π⋅m_He⎞      ⎞         \n",
       "⋅k⋅(a + 1)⋅⎜4⋅X⋅⎜2⋅log   ⎜───────⎟ + 5⎟ + 2⋅Y⋅log   ⎜────────⎟ + 5⋅Y⎟         \n",
       "           ⎜    ⎜        ⎜    2  ⎟    ⎟             ⎜    2   ⎟      ⎟        -\n",
       "           ⎝    ⎝        ⎝   h   ⎠    ⎠             ⎝   h    ⎠      ⎠   2⋅Pₚₕ \n",
       "───────────────────────────────────────────────────────────────────── + ──────\n",
       "                    12⋅κ₀                                                     \n",
       "──────────────────────────────────────────────────────────────────────────────\n",
       " 2⋅T_eff⋅X⋅g⋅m_H⋅(a + 1)                                                      \n",
       "\n",
       "                        ⎞                                                     \n",
       "                        ⎟                                                     \n",
       "a      -b  2            ⎟                                                     \n",
       " ⋅T_eff  ⋅X ⋅χ⋅g⋅(a + 1)⎟                                                     \n",
       "────────────────────────⎟    0.5  -1.5    -2.5            2    5/2            \n",
       "       3⋅κ₀             ⎠   M   ⋅R    ⋅T_c    ⋅k⋅(8⋅X + Y) ⋅log   (T_c⋅k)   T_\n",
       "───────────────────────── = ───────────────────────────────────────────── + ──\n",
       "                                               16⋅X⋅m_H                       \n",
       "\n",
       "                                                                              \n",
       "                                                                              \n",
       "                   3/2⎛2⋅π⋅m_H⎞          3/2⎛2⋅π⋅mₑ⎞                  3/2⎛2⋅π⋅\n",
       "            X⋅k⋅log   ⎜───────⎟   X⋅k⋅log   ⎜──────⎟           Y⋅k⋅log   ⎜────\n",
       " -1.0                 ⎜    2  ⎟             ⎜   2  ⎟                     ⎜    \n",
       "c    ⋅X⋅χ             ⎝   h   ⎠             ⎝  h   ⎠   5⋅X⋅k             ⎝   h\n",
       "───────── + ─────────────────── + ────────────────── + ───── + ───────────────\n",
       "  m_H               m_H                  m_H            m_H           4⋅m_H   \n",
       "\n",
       "             \n",
       "             \n",
       "m_He⎞        \n",
       "────⎟        \n",
       "2   ⎟        \n",
       "    ⎠   5⋅Y⋅k\n",
       "───── + ─────\n",
       "        8⋅m_H"
      ]
     },
     "execution_count": 43,
     "metadata": {},
     "output_type": "execute_result"
    }
   ],
   "source": [
    "# 換掉 kappa\n",
    "eqBoundary = eqBoundary.subs(kappa, exprK.rhs.subs(P, P_ph).subs(T, T_eff))\n",
    "eqBoundary"
   ]
  },
  {
   "cell_type": "code",
   "execution_count": 44,
   "metadata": {
    "scrolled": true
   },
   "outputs": [
    {
     "data": {
      "image/png": "[encoded data removed]",
      "text/latex": [
       "$$\\frac{R^{1.5}}{M^{0.5}} = \\frac{P_{ph}}{T_{eff}^{2.5}}$$"
      ],
      "text/plain": [
       " -0.5  1.5            -2.5\n",
       "M    ⋅R    = Pₚₕ⋅T_eff    "
      ]
     },
     "execution_count": 44,
     "metadata": {},
     "output_type": "execute_result"
    }
   ],
   "source": [
    "# adiabatic condition Pc / Tc^2.5 = P_ph / T_eff^2.5\n",
    "# 但是這邊就直接把 Pc / Tc^2.5 換成  M^{-0.5} R^{1.5} 好了\n",
    "eqAdiabaticHigh.subs(eqAdiabaticHigh.lhs, M**-0.5 * R**1.5)"
   ]
  },
  {
   "cell_type": "code",
   "execution_count": 45,
   "metadata": {},
   "outputs": [
    {
     "data": {
      "image/png": "[encoded data removed]",
      "text/latex": [
       "$$\\frac{3 T_{eff}^{b} \\kappa_{0} \\left(\\frac{R^{\\frac{3}{2}} T_{eff}^{\\frac{5}{2}}}{\\sqrt{M}}\\right)^{a}}{2 T_{eff} X g m_{H} \\left(a + 1\\right)} \\left(\\frac{T_{eff} k}{16} \\left(4 X + Y\\right)^{2} \\log^{\\frac{5}{2}}{\\left (T_{eff} k \\right )} + \\frac{T_{eff} X g k}{12 \\kappa_{0}} T_{eff}^{- b} \\left(\\frac{R^{\\frac{3}{2}} T_{eff}^{\\frac{5}{2}}}{\\sqrt{M}}\\right)^{- a} \\left(a + 1\\right) \\left(4 X \\left(2 \\log^{\\frac{3}{2}}{\\left (\\frac{2 \\pi}{h^{2}} m_{H} \\right )} + 5\\right) + 2 Y \\log^{\\frac{3}{2}}{\\left (\\frac{2 \\pi}{h^{2}} m_{He} \\right )} + 5 Y\\right) + \\frac{2 X^{2} \\chi g}{3 \\kappa_{0}} T_{eff}^{- b} \\left(\\frac{R^{\\frac{3}{2}} T_{eff}^{\\frac{5}{2}}}{\\sqrt{M}}\\right)^{- a} \\left(a + 1\\right)\\right) = \\frac{M^{0.5} k \\left(8 X + Y\\right)^{2}}{16 R^{1.5} T_{c}^{2.5} X m_{H}} \\log^{\\frac{5}{2}}{\\left (T_{c} k \\right )} + \\frac{X \\chi}{T_{c}^{1.0} m_{H}} + \\frac{X k}{m_{H}} \\log^{\\frac{3}{2}}{\\left (\\frac{2 \\pi}{h^{2}} m_{H} \\right )} + \\frac{X k}{m_{H}} \\log^{\\frac{3}{2}}{\\left (\\frac{2 \\pi}{h^{2}} m_{e} \\right )} + \\frac{5 X}{m_{H}} k + \\frac{Y k}{4 m_{H}} \\log^{\\frac{3}{2}}{\\left (\\frac{2 \\pi}{h^{2}} m_{He} \\right )} + \\frac{5 Y k}{8 m_{H}}$$"
      ],
      "text/plain": [
       "                             ⎛                                                \n",
       "                             ⎜                                                \n",
       "                             ⎜                                                \n",
       "                           a ⎜                                     T_eff⋅T_eff\n",
       "            ⎛ 3/2      5/2⎞  ⎜                 2    5/2                       \n",
       "       b    ⎜R   ⋅T_eff   ⎟  ⎜T_eff⋅k⋅(4⋅X + Y) ⋅log   (T_eff⋅k)              \n",
       "3⋅T_eff ⋅κ₀⋅⎜─────────────⎟ ⋅⎜────────────────────────────────── + ───────────\n",
       "            ⎝      √M     ⎠  ⎝                16                              \n",
       "──────────────────────────────────────────────────────────────────────────────\n",
       "                                                                              \n",
       "\n",
       "                        -a                                                    \n",
       "         ⎛ 3/2      5/2⎞                                                      \n",
       "-b       ⎜R   ⋅T_eff   ⎟           ⎛    ⎛     3/2⎛2⋅π⋅m_H⎞    ⎞          3/2⎛2\n",
       "  ⋅X⋅g⋅k⋅⎜─────────────⎟  ⋅(a + 1)⋅⎜4⋅X⋅⎜2⋅log   ⎜───────⎟ + 5⎟ + 2⋅Y⋅log   ⎜─\n",
       "         ⎝      √M     ⎠           ⎜    ⎜        ⎜    2  ⎟    ⎟             ⎜ \n",
       "                                   ⎝    ⎝        ⎝   h   ⎠    ⎠             ⎝ \n",
       "──────────────────────────────────────────────────────────────────────────────\n",
       "                                      12⋅κ₀                                   \n",
       "──────────────────────────────────────────────────────────────────────────────\n",
       "                   2⋅T_eff⋅X⋅g⋅m_H⋅(a + 1)                                    \n",
       "\n",
       "                                                            ⎞                 \n",
       "                                                  -a        ⎟                 \n",
       "⋅π⋅m_He⎞      ⎞                    ⎛ 3/2      5/2⎞          ⎟                 \n",
       "───────⎟ + 5⋅Y⎟          -b  2     ⎜R   ⋅T_eff   ⎟          ⎟                 \n",
       "   2   ⎟      ⎟   2⋅T_eff  ⋅X ⋅χ⋅g⋅⎜─────────────⎟  ⋅(a + 1)⎟                 \n",
       "  h    ⎠      ⎠                    ⎝      √M     ⎠          ⎟                 \n",
       "─────────────── + ──────────────────────────────────────────⎟    0.5  -1.5    \n",
       "                                     3⋅κ₀                   ⎠   M   ⋅R    ⋅T_c\n",
       "───────────────────────────────────────────────────────────── = ──────────────\n",
       "                                                                              \n",
       "\n",
       "                                                                              \n",
       "                                                                              \n",
       "                                                                              \n",
       "                                                                              \n",
       "                                                       3/2⎛2⋅π⋅m_H⎞          3\n",
       "                                                X⋅k⋅log   ⎜───────⎟   X⋅k⋅log \n",
       "-2.5            2    5/2             -1.0                 ⎜    2  ⎟           \n",
       "    ⋅k⋅(8⋅X + Y) ⋅log   (T_c⋅k)   T_c    ⋅X⋅χ             ⎝   h   ⎠           \n",
       "─────────────────────────────── + ─────────── + ─────────────────── + ────────\n",
       "     16⋅X⋅m_H                         m_H               m_H                  m\n",
       "\n",
       "                                                 \n",
       "                                                 \n",
       "                                                 \n",
       "                                                 \n",
       "/2⎛2⋅π⋅mₑ⎞                  3/2⎛2⋅π⋅m_He⎞        \n",
       "  ⎜──────⎟           Y⋅k⋅log   ⎜────────⎟        \n",
       "  ⎜   2  ⎟                     ⎜    2   ⎟        \n",
       "  ⎝  h   ⎠   5⋅X⋅k             ⎝   h    ⎠   5⋅Y⋅k\n",
       "────────── + ───── + ──────────────────── + ─────\n",
       "_H            m_H           4⋅m_H           8⋅m_H"
      ]
     },
     "execution_count": 45,
     "metadata": {},
     "output_type": "execute_result"
    }
   ],
   "source": [
    "eqBoundary = eqBoundary.subs(\n",
    "    P_ph,\n",
    "    sp.solve(\n",
    "        eqAdiabaticHigh.subs(eqAdiabaticHigh.lhs, M**-0.5 * R**1.5),\n",
    "        P_ph\n",
    "        )[0]\n",
    "    )\n",
    "eqBoundary"
   ]
  },
  {
   "cell_type": "markdown",
   "metadata": {},
   "source": [
    "感覺是很嚴重的大失敗。  \n",
    "但是還是讓他把答案寫完好了。"
   ]
  },
  {
   "cell_type": "code",
   "execution_count": 47,
   "metadata": {
    "collapsed": true
   },
   "outputs": [],
   "source": [
    "sp.solve(eqBoundary, T_eff)"
   ]
  },
  {
   "cell_type": "markdown",
   "metadata": {},
   "source": [
    "最後是算不出來的⋯⋯\n",
    "\n",
    "（投降）"
   ]
  },
  {
   "cell_type": "markdown",
   "metadata": {},
   "source": [
    "# Question 3\n",
    "\n",
    "C)Explain the mechanism of Hayashi track, why we can roughly disassemble the Hayashi track and what is the difference among the three states?(10%)"
   ]
  },
  {
   "cell_type": "markdown",
   "metadata": {},
   "source": [
    "- 一開始可能是一坨氣體開始收縮，因為還沒有核反應，所以溫度超低，幾乎沒有輻射、都是對流在掌控溫度。這時的這星體可以說是在 Hayashi track 上的 protostar。  由於才剛開始收縮，表面密度就會比較低，而且又是個完全對流（fully-convective）的星體，所以可以用 6.5 節的low surface density 的 近似來做。這時的表面溫度會稍微提高、luminosity 會迅速降低。  \n",
    "- 持續收縮之後，到了某種程度，表面密度變高了，這時就可以用 high surface density 來近似。溫度隨著收縮而降低一點點、luminosity 掉得更快了。  \n",
    "- 但是到了某種程度之後，內部溫度夠高了，輻射開始比對流還要重要，內部形成了一個輻射核。這時就可以用 ionization zone 的近似來解釋。接著，開始越來越高溫，在 H-R 圖上明顯往左移，到了某種高溫程度後，點燃氫核融合。"
   ]
  },
  {
   "cell_type": "markdown",
   "metadata": {},
   "source": [
    "抄錄自課本 171 頁。\n"
   ]
  }
 ],
 "metadata": {
  "hide_input": false,
  "kernelspec": {
   "display_name": "Python 3",
   "language": "python",
   "name": "python3"
  },
  "language_info": {
   "codemirror_mode": {
    "name": "ipython",
    "version": 3
   },
   "file_extension": ".py",
   "mimetype": "text/x-python",
   "name": "python",
   "nbconvert_exporter": "python",
   "pygments_lexer": "ipython3",
   "version": "3.6.1"
  }
 },
 "nbformat": 4,
 "nbformat_minor": 2
}
